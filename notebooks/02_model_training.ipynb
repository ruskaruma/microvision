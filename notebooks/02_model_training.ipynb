{
 "cells": [
  {
   "cell_type": "markdown",
   "metadata": {},
   "source": [
    "# 02: model training\n",
    "\n",
    "this notebook demonstrates training cnn models on cifar-10 with different architectures and hyperparameters.\n"
   ]
  },
  {
   "cell_type": "code",
   "execution_count": 7,
   "metadata": {},
   "outputs": [
    {
     "name": "stdout",
     "output_type": "stream",
     "text": [
      "training on: cuda\n"
     ]
    }
   ],
   "source": [
    "import sys\n",
    "sys.path.append('../src')\n",
    "\n",
    "import torch\n",
    "import torch.nn as nn\n",
    "import torch.optim as optim\n",
    "from torch.utils.tensorboard import SummaryWriter\n",
    "import matplotlib.pyplot as plt\n",
    "from src.config import Config\n",
    "from src.datasets import get_cifar10_loaders\n",
    "from src.models import create_model\n",
    "from src.trainer import Trainer\n",
    "from src.utils import set_seed, plot_training_curves\n",
    "\n",
    "set_seed(42)\n",
    "config = Config()\n",
    "print(f\"training on: {config.device}\")"
   ]
  },
  {
   "cell_type": "markdown",
   "metadata": {},
   "source": [
    "## load data and create model\n"
   ]
  },
  {
   "cell_type": "code",
   "execution_count": 8,
   "metadata": {},
   "outputs": [
    {
     "name": "stdout",
     "output_type": "stream",
     "text": [
      "model: SimpleCNN\n",
      "parameters: 1,147,914\n",
      "trainable parameters: 1,147,914\n",
      "input shape: torch.Size([128, 3, 32, 32])\n",
      "output shape: torch.Size([128, 10])\n",
      "output range: [-1.052, 1.310]\n"
     ]
    }
   ],
   "source": [
    "train_loader, val_loader, test_loader = get_cifar10_loaders(config)\n",
    "model = create_model('simple_cnn', config).to(config.device)\n",
    "\n",
    "print(f\"model: {model.__class__.__name__}\")\n",
    "print(f\"parameters: {sum(p.numel() for p in model.parameters()):,}\")\n",
    "print(f\"trainable parameters: {sum(p.numel() for p in model.parameters() if p.requires_grad):,}\")\n",
    "\n",
    "sample_batch = next(iter(train_loader))\n",
    "images, labels = sample_batch\n",
    "images, labels = images.to(config.device), labels.to(config.device)\n",
    "\n",
    "with torch.no_grad():\n",
    "    outputs = model(images)\n",
    "    print(f\"input shape: {images.shape}\")\n",
    "    print(f\"output shape: {outputs.shape}\")\n",
    "    print(f\"output range: [{outputs.min():.3f}, {outputs.max():.3f}]\")\n"
   ]
  },
  {
   "cell_type": "markdown",
   "metadata": {},
   "source": [
    "## train simple cnn\n"
   ]
  },
  {
   "cell_type": "code",
   "execution_count": 9,
   "metadata": {
    "scrolled": true
   },
   "outputs": [
    {
     "name": "stdout",
     "output_type": "stream",
     "text": [
      "starting training...\n",
      "Training on cuda\n",
      "Model parameters: 1,147,914\n",
      "\n",
      "Epoch 1/30\n",
      "--------------------------------------------------\n"
     ]
    },
    {
     "name": "stderr",
     "output_type": "stream",
     "text": [
      "Training: 100%|████████████████████████████████████████████████████████████████████████████████████████████████████████████████████████████████| 313/313 [00:01<00:00, 203.32it/s, Loss=1.3519, Acc=40.03%]\n",
      "Validation: 100%|█████████████████████████████████████████████████████████████████████████████████████████████████████████████████████████████████████████████████████████| 79/79 [00:00<00:00, 262.37it/s]\n"
     ]
    },
    {
     "name": "stdout",
     "output_type": "stream",
     "text": [
      "Train Loss: 1.6175, Train Acc: 40.03%\n",
      "Val Loss: 1.3130, Val Acc: 52.62%\n",
      "New best validation accuracy: 52.62%\n",
      "\n",
      "Epoch 2/30\n",
      "--------------------------------------------------\n"
     ]
    },
    {
     "name": "stderr",
     "output_type": "stream",
     "text": [
      "Training: 100%|████████████████████████████████████████████████████████████████████████████████████████████████████████████████████████████████| 313/313 [00:01<00:00, 209.25it/s, Loss=1.3512, Acc=53.03%]\n",
      "Validation: 100%|█████████████████████████████████████████████████████████████████████████████████████████████████████████████████████████████████████████████████████████| 79/79 [00:00<00:00, 275.02it/s]\n"
     ]
    },
    {
     "name": "stdout",
     "output_type": "stream",
     "text": [
      "Train Loss: 1.2950, Train Acc: 53.03%\n",
      "Val Loss: 1.1367, Val Acc: 59.30%\n",
      "New best validation accuracy: 59.30%\n",
      "\n",
      "Epoch 3/30\n",
      "--------------------------------------------------\n"
     ]
    },
    {
     "name": "stderr",
     "output_type": "stream",
     "text": [
      "Training: 100%|████████████████████████████████████████████████████████████████████████████████████████████████████████████████████████████████| 313/313 [00:01<00:00, 199.15it/s, Loss=1.2565, Acc=58.42%]\n",
      "Validation: 100%|█████████████████████████████████████████████████████████████████████████████████████████████████████████████████████████████████████████████████████████| 79/79 [00:00<00:00, 266.67it/s]\n"
     ]
    },
    {
     "name": "stdout",
     "output_type": "stream",
     "text": [
      "Train Loss: 1.1559, Train Acc: 58.42%\n",
      "Val Loss: 0.9113, Val Acc: 67.35%\n",
      "New best validation accuracy: 67.35%\n",
      "\n",
      "Epoch 4/30\n",
      "--------------------------------------------------\n"
     ]
    },
    {
     "name": "stderr",
     "output_type": "stream",
     "text": [
      "Training: 100%|████████████████████████████████████████████████████████████████████████████████████████████████████████████████████████████████| 313/313 [00:01<00:00, 208.62it/s, Loss=1.0890, Acc=62.03%]\n",
      "Validation: 100%|█████████████████████████████████████████████████████████████████████████████████████████████████████████████████████████████████████████████████████████| 79/79 [00:00<00:00, 282.80it/s]\n"
     ]
    },
    {
     "name": "stdout",
     "output_type": "stream",
     "text": [
      "Train Loss: 1.0605, Train Acc: 62.03%\n",
      "Val Loss: 0.8986, Val Acc: 68.22%\n",
      "New best validation accuracy: 68.22%\n",
      "\n",
      "Epoch 5/30\n",
      "--------------------------------------------------\n"
     ]
    },
    {
     "name": "stderr",
     "output_type": "stream",
     "text": [
      "Training: 100%|████████████████████████████████████████████████████████████████████████████████████████████████████████████████████████████████| 313/313 [00:01<00:00, 228.07it/s, Loss=1.0421, Acc=64.85%]\n",
      "Validation: 100%|█████████████████████████████████████████████████████████████████████████████████████████████████████████████████████████████████████████████████████████| 79/79 [00:00<00:00, 254.22it/s]\n"
     ]
    },
    {
     "name": "stdout",
     "output_type": "stream",
     "text": [
      "Train Loss: 0.9876, Train Acc: 64.85%\n",
      "Val Loss: 0.8260, Val Acc: 70.67%\n",
      "New best validation accuracy: 70.67%\n",
      "\n",
      "Epoch 6/30\n",
      "--------------------------------------------------\n"
     ]
    },
    {
     "name": "stderr",
     "output_type": "stream",
     "text": [
      "Training: 100%|████████████████████████████████████████████████████████████████████████████████████████████████████████████████████████████████| 313/313 [00:01<00:00, 226.83it/s, Loss=0.9910, Acc=66.59%]\n",
      "Validation: 100%|█████████████████████████████████████████████████████████████████████████████████████████████████████████████████████████████████████████████████████████| 79/79 [00:00<00:00, 256.75it/s]\n"
     ]
    },
    {
     "name": "stdout",
     "output_type": "stream",
     "text": [
      "Train Loss: 0.9372, Train Acc: 66.59%\n",
      "Val Loss: 0.7726, Val Acc: 72.61%\n",
      "New best validation accuracy: 72.61%\n",
      "\n",
      "Epoch 7/30\n",
      "--------------------------------------------------\n"
     ]
    },
    {
     "name": "stderr",
     "output_type": "stream",
     "text": [
      "Training: 100%|████████████████████████████████████████████████████████████████████████████████████████████████████████████████████████████████| 313/313 [00:01<00:00, 219.67it/s, Loss=0.7562, Acc=68.67%]\n",
      "Validation: 100%|█████████████████████████████████████████████████████████████████████████████████████████████████████████████████████████████████████████████████████████| 79/79 [00:00<00:00, 254.15it/s]\n"
     ]
    },
    {
     "name": "stdout",
     "output_type": "stream",
     "text": [
      "Train Loss: 0.8897, Train Acc: 68.67%\n",
      "Val Loss: 0.7579, Val Acc: 72.79%\n",
      "New best validation accuracy: 72.79%\n",
      "\n",
      "Epoch 8/30\n",
      "--------------------------------------------------\n"
     ]
    },
    {
     "name": "stderr",
     "output_type": "stream",
     "text": [
      "Training: 100%|████████████████████████████████████████████████████████████████████████████████████████████████████████████████████████████████| 313/313 [00:01<00:00, 225.10it/s, Loss=1.0370, Acc=69.76%]\n",
      "Validation: 100%|█████████████████████████████████████████████████████████████████████████████████████████████████████████████████████████████████████████████████████████| 79/79 [00:00<00:00, 271.79it/s]\n"
     ]
    },
    {
     "name": "stdout",
     "output_type": "stream",
     "text": [
      "Train Loss: 0.8602, Train Acc: 69.76%\n",
      "Val Loss: 0.7232, Val Acc: 74.35%\n",
      "New best validation accuracy: 74.35%\n",
      "\n",
      "Epoch 9/30\n",
      "--------------------------------------------------\n"
     ]
    },
    {
     "name": "stderr",
     "output_type": "stream",
     "text": [
      "Training: 100%|████████████████████████████████████████████████████████████████████████████████████████████████████████████████████████████████| 313/313 [00:01<00:00, 222.36it/s, Loss=0.9176, Acc=71.33%]\n",
      "Validation: 100%|█████████████████████████████████████████████████████████████████████████████████████████████████████████████████████████████████████████████████████████| 79/79 [00:00<00:00, 289.72it/s]\n"
     ]
    },
    {
     "name": "stdout",
     "output_type": "stream",
     "text": [
      "Train Loss: 0.8187, Train Acc: 71.33%\n",
      "Val Loss: 0.6819, Val Acc: 75.60%\n",
      "New best validation accuracy: 75.60%\n",
      "\n",
      "Epoch 10/30\n",
      "--------------------------------------------------\n"
     ]
    },
    {
     "name": "stderr",
     "output_type": "stream",
     "text": [
      "Training: 100%|████████████████████████████████████████████████████████████████████████████████████████████████████████████████████████████████| 313/313 [00:01<00:00, 228.31it/s, Loss=0.6795, Acc=72.03%]\n",
      "Validation: 100%|█████████████████████████████████████████████████████████████████████████████████████████████████████████████████████████████████████████████████████████| 79/79 [00:00<00:00, 298.09it/s]\n"
     ]
    },
    {
     "name": "stdout",
     "output_type": "stream",
     "text": [
      "Train Loss: 0.7922, Train Acc: 72.03%\n",
      "Val Loss: 0.6892, Val Acc: 75.84%\n",
      "New best validation accuracy: 75.84%\n",
      "\n",
      "Epoch 11/30\n",
      "--------------------------------------------------\n"
     ]
    },
    {
     "name": "stderr",
     "output_type": "stream",
     "text": [
      "Training: 100%|████████████████████████████████████████████████████████████████████████████████████████████████████████████████████████████████| 313/313 [00:01<00:00, 220.41it/s, Loss=0.7029, Acc=73.31%]\n",
      "Validation: 100%|█████████████████████████████████████████████████████████████████████████████████████████████████████████████████████████████████████████████████████████| 79/79 [00:00<00:00, 268.00it/s]\n"
     ]
    },
    {
     "name": "stdout",
     "output_type": "stream",
     "text": [
      "Train Loss: 0.7624, Train Acc: 73.31%\n",
      "Val Loss: 0.7100, Val Acc: 74.78%\n",
      "\n",
      "Epoch 12/30\n",
      "--------------------------------------------------\n"
     ]
    },
    {
     "name": "stderr",
     "output_type": "stream",
     "text": [
      "Training: 100%|████████████████████████████████████████████████████████████████████████████████████████████████████████████████████████████████| 313/313 [00:01<00:00, 224.15it/s, Loss=0.7078, Acc=74.12%]\n",
      "Validation: 100%|█████████████████████████████████████████████████████████████████████████████████████████████████████████████████████████████████████████████████████████| 79/79 [00:00<00:00, 267.08it/s]\n"
     ]
    },
    {
     "name": "stdout",
     "output_type": "stream",
     "text": [
      "Train Loss: 0.7408, Train Acc: 74.12%\n",
      "Val Loss: 0.7222, Val Acc: 74.63%\n",
      "\n",
      "Epoch 13/30\n",
      "--------------------------------------------------\n"
     ]
    },
    {
     "name": "stderr",
     "output_type": "stream",
     "text": [
      "Training: 100%|████████████████████████████████████████████████████████████████████████████████████████████████████████████████████████████████| 313/313 [00:01<00:00, 219.40it/s, Loss=0.6299, Acc=74.82%]\n",
      "Validation: 100%|█████████████████████████████████████████████████████████████████████████████████████████████████████████████████████████████████████████████████████████| 79/79 [00:00<00:00, 257.40it/s]\n"
     ]
    },
    {
     "name": "stdout",
     "output_type": "stream",
     "text": [
      "Train Loss: 0.7189, Train Acc: 74.82%\n",
      "Val Loss: 0.6806, Val Acc: 76.11%\n",
      "New best validation accuracy: 76.11%\n",
      "\n",
      "Epoch 14/30\n",
      "--------------------------------------------------\n"
     ]
    },
    {
     "name": "stderr",
     "output_type": "stream",
     "text": [
      "Training: 100%|████████████████████████████████████████████████████████████████████████████████████████████████████████████████████████████████| 313/313 [00:01<00:00, 226.87it/s, Loss=0.5710, Acc=75.45%]\n",
      "Validation: 100%|█████████████████████████████████████████████████████████████████████████████████████████████████████████████████████████████████████████████████████████| 79/79 [00:00<00:00, 272.48it/s]\n"
     ]
    },
    {
     "name": "stdout",
     "output_type": "stream",
     "text": [
      "Train Loss: 0.6971, Train Acc: 75.45%\n",
      "Val Loss: 0.5941, Val Acc: 79.30%\n",
      "New best validation accuracy: 79.30%\n",
      "\n",
      "Epoch 15/30\n",
      "--------------------------------------------------\n"
     ]
    },
    {
     "name": "stderr",
     "output_type": "stream",
     "text": [
      "Training: 100%|████████████████████████████████████████████████████████████████████████████████████████████████████████████████████████████████| 313/313 [00:01<00:00, 216.18it/s, Loss=0.6596, Acc=76.12%]\n",
      "Validation: 100%|█████████████████████████████████████████████████████████████████████████████████████████████████████████████████████████████████████████████████████████| 79/79 [00:00<00:00, 273.43it/s]\n"
     ]
    },
    {
     "name": "stdout",
     "output_type": "stream",
     "text": [
      "Train Loss: 0.6844, Train Acc: 76.12%\n",
      "Val Loss: 0.6033, Val Acc: 78.67%\n",
      "\n",
      "Epoch 16/30\n",
      "--------------------------------------------------\n"
     ]
    },
    {
     "name": "stderr",
     "output_type": "stream",
     "text": [
      "Training: 100%|████████████████████████████████████████████████████████████████████████████████████████████████████████████████████████████████| 313/313 [00:01<00:00, 219.55it/s, Loss=0.6201, Acc=76.88%]\n",
      "Validation: 100%|█████████████████████████████████████████████████████████████████████████████████████████████████████████████████████████████████████████████████████████| 79/79 [00:00<00:00, 290.39it/s]\n"
     ]
    },
    {
     "name": "stdout",
     "output_type": "stream",
     "text": [
      "Train Loss: 0.6645, Train Acc: 76.88%\n",
      "Val Loss: 0.5748, Val Acc: 79.58%\n",
      "New best validation accuracy: 79.58%\n",
      "\n",
      "Epoch 17/30\n",
      "--------------------------------------------------\n"
     ]
    },
    {
     "name": "stderr",
     "output_type": "stream",
     "text": [
      "Training: 100%|████████████████████████████████████████████████████████████████████████████████████████████████████████████████████████████████| 313/313 [00:01<00:00, 215.36it/s, Loss=0.8767, Acc=77.60%]\n",
      "Validation: 100%|█████████████████████████████████████████████████████████████████████████████████████████████████████████████████████████████████████████████████████████| 79/79 [00:00<00:00, 251.33it/s]\n"
     ]
    },
    {
     "name": "stdout",
     "output_type": "stream",
     "text": [
      "Train Loss: 0.6458, Train Acc: 77.60%\n",
      "Val Loss: 0.5756, Val Acc: 79.92%\n",
      "New best validation accuracy: 79.92%\n",
      "\n",
      "Epoch 18/30\n",
      "--------------------------------------------------\n"
     ]
    },
    {
     "name": "stderr",
     "output_type": "stream",
     "text": [
      "Training: 100%|████████████████████████████████████████████████████████████████████████████████████████████████████████████████████████████████| 313/313 [00:01<00:00, 219.82it/s, Loss=0.6723, Acc=78.14%]\n",
      "Validation: 100%|█████████████████████████████████████████████████████████████████████████████████████████████████████████████████████████████████████████████████████████| 79/79 [00:00<00:00, 269.22it/s]\n"
     ]
    },
    {
     "name": "stdout",
     "output_type": "stream",
     "text": [
      "Train Loss: 0.6230, Train Acc: 78.14%\n",
      "Val Loss: 0.5695, Val Acc: 80.09%\n",
      "New best validation accuracy: 80.09%\n",
      "\n",
      "Epoch 19/30\n",
      "--------------------------------------------------\n"
     ]
    },
    {
     "name": "stderr",
     "output_type": "stream",
     "text": [
      "Training: 100%|████████████████████████████████████████████████████████████████████████████████████████████████████████████████████████████████| 313/313 [00:01<00:00, 214.32it/s, Loss=0.7874, Acc=78.44%]\n",
      "Validation: 100%|█████████████████████████████████████████████████████████████████████████████████████████████████████████████████████████████████████████████████████████| 79/79 [00:00<00:00, 277.88it/s]\n"
     ]
    },
    {
     "name": "stdout",
     "output_type": "stream",
     "text": [
      "Train Loss: 0.6152, Train Acc: 78.44%\n",
      "Val Loss: 0.5567, Val Acc: 80.53%\n",
      "New best validation accuracy: 80.53%\n",
      "\n",
      "Epoch 20/30\n",
      "--------------------------------------------------\n"
     ]
    },
    {
     "name": "stderr",
     "output_type": "stream",
     "text": [
      "Training: 100%|████████████████████████████████████████████████████████████████████████████████████████████████████████████████████████████████| 313/313 [00:01<00:00, 214.50it/s, Loss=0.4745, Acc=79.01%]\n",
      "Validation: 100%|█████████████████████████████████████████████████████████████████████████████████████████████████████████████████████████████████████████████████████████| 79/79 [00:00<00:00, 265.85it/s]\n"
     ]
    },
    {
     "name": "stdout",
     "output_type": "stream",
     "text": [
      "Train Loss: 0.6032, Train Acc: 79.01%\n",
      "Val Loss: 0.5478, Val Acc: 80.57%\n",
      "New best validation accuracy: 80.57%\n",
      "\n",
      "Epoch 21/30\n",
      "--------------------------------------------------\n"
     ]
    },
    {
     "name": "stderr",
     "output_type": "stream",
     "text": [
      "Training: 100%|████████████████████████████████████████████████████████████████████████████████████████████████████████████████████████████████| 313/313 [00:01<00:00, 204.71it/s, Loss=0.5304, Acc=79.56%]\n",
      "Validation: 100%|█████████████████████████████████████████████████████████████████████████████████████████████████████████████████████████████████████████████████████████| 79/79 [00:00<00:00, 269.45it/s]\n"
     ]
    },
    {
     "name": "stdout",
     "output_type": "stream",
     "text": [
      "Train Loss: 0.5825, Train Acc: 79.56%\n",
      "Val Loss: 0.5417, Val Acc: 81.15%\n",
      "New best validation accuracy: 81.15%\n",
      "\n",
      "Epoch 22/30\n",
      "--------------------------------------------------\n"
     ]
    },
    {
     "name": "stderr",
     "output_type": "stream",
     "text": [
      "Training: 100%|████████████████████████████████████████████████████████████████████████████████████████████████████████████████████████████████| 313/313 [00:01<00:00, 212.20it/s, Loss=0.6593, Acc=79.99%]\n",
      "Validation: 100%|█████████████████████████████████████████████████████████████████████████████████████████████████████████████████████████████████████████████████████████| 79/79 [00:00<00:00, 254.46it/s]\n"
     ]
    },
    {
     "name": "stdout",
     "output_type": "stream",
     "text": [
      "Train Loss: 0.5764, Train Acc: 79.99%\n",
      "Val Loss: 0.5217, Val Acc: 81.32%\n",
      "New best validation accuracy: 81.32%\n",
      "\n",
      "Epoch 23/30\n",
      "--------------------------------------------------\n"
     ]
    },
    {
     "name": "stderr",
     "output_type": "stream",
     "text": [
      "Training: 100%|████████████████████████████████████████████████████████████████████████████████████████████████████████████████████████████████| 313/313 [00:01<00:00, 206.75it/s, Loss=0.6017, Acc=80.19%]\n",
      "Validation: 100%|█████████████████████████████████████████████████████████████████████████████████████████████████████████████████████████████████████████████████████████| 79/79 [00:00<00:00, 283.83it/s]\n"
     ]
    },
    {
     "name": "stdout",
     "output_type": "stream",
     "text": [
      "Train Loss: 0.5668, Train Acc: 80.19%\n",
      "Val Loss: 0.5273, Val Acc: 81.31%\n",
      "\n",
      "Epoch 24/30\n",
      "--------------------------------------------------\n"
     ]
    },
    {
     "name": "stderr",
     "output_type": "stream",
     "text": [
      "Training: 100%|████████████████████████████████████████████████████████████████████████████████████████████████████████████████████████████████| 313/313 [00:01<00:00, 216.82it/s, Loss=0.5066, Acc=80.39%]\n",
      "Validation: 100%|█████████████████████████████████████████████████████████████████████████████████████████████████████████████████████████████████████████████████████████| 79/79 [00:00<00:00, 224.86it/s]\n"
     ]
    },
    {
     "name": "stdout",
     "output_type": "stream",
     "text": [
      "Train Loss: 0.5588, Train Acc: 80.39%\n",
      "Val Loss: 0.5684, Val Acc: 80.32%\n",
      "\n",
      "Epoch 25/30\n",
      "--------------------------------------------------\n"
     ]
    },
    {
     "name": "stderr",
     "output_type": "stream",
     "text": [
      "Training: 100%|████████████████████████████████████████████████████████████████████████████████████████████████████████████████████████████████| 313/313 [00:01<00:00, 208.85it/s, Loss=0.5795, Acc=80.98%]\n",
      "Validation: 100%|█████████████████████████████████████████████████████████████████████████████████████████████████████████████████████████████████████████████████████████| 79/79 [00:00<00:00, 272.97it/s]\n"
     ]
    },
    {
     "name": "stdout",
     "output_type": "stream",
     "text": [
      "Train Loss: 0.5441, Train Acc: 80.98%\n",
      "Val Loss: 0.4936, Val Acc: 82.33%\n",
      "New best validation accuracy: 82.33%\n",
      "\n",
      "Epoch 26/30\n",
      "--------------------------------------------------\n"
     ]
    },
    {
     "name": "stderr",
     "output_type": "stream",
     "text": [
      "Training: 100%|████████████████████████████████████████████████████████████████████████████████████████████████████████████████████████████████| 313/313 [00:01<00:00, 209.61it/s, Loss=0.7279, Acc=81.14%]\n",
      "Validation: 100%|█████████████████████████████████████████████████████████████████████████████████████████████████████████████████████████████████████████████████████████| 79/79 [00:00<00:00, 278.54it/s]\n"
     ]
    },
    {
     "name": "stdout",
     "output_type": "stream",
     "text": [
      "Train Loss: 0.5388, Train Acc: 81.14%\n",
      "Val Loss: 0.5406, Val Acc: 81.04%\n",
      "\n",
      "Epoch 27/30\n",
      "--------------------------------------------------\n"
     ]
    },
    {
     "name": "stderr",
     "output_type": "stream",
     "text": [
      "Training: 100%|████████████████████████████████████████████████████████████████████████████████████████████████████████████████████████████████| 313/313 [00:01<00:00, 210.25it/s, Loss=0.5822, Acc=81.82%]\n",
      "Validation: 100%|█████████████████████████████████████████████████████████████████████████████████████████████████████████████████████████████████████████████████████████| 79/79 [00:00<00:00, 254.15it/s]\n"
     ]
    },
    {
     "name": "stdout",
     "output_type": "stream",
     "text": [
      "Train Loss: 0.5209, Train Acc: 81.82%\n",
      "Val Loss: 0.5069, Val Acc: 82.54%\n",
      "New best validation accuracy: 82.54%\n",
      "\n",
      "Epoch 28/30\n",
      "--------------------------------------------------\n"
     ]
    },
    {
     "name": "stderr",
     "output_type": "stream",
     "text": [
      "Training: 100%|████████████████████████████████████████████████████████████████████████████████████████████████████████████████████████████████| 313/313 [00:01<00:00, 206.40it/s, Loss=0.5962, Acc=82.05%]\n",
      "Validation: 100%|█████████████████████████████████████████████████████████████████████████████████████████████████████████████████████████████████████████████████████████| 79/79 [00:00<00:00, 267.66it/s]\n"
     ]
    },
    {
     "name": "stdout",
     "output_type": "stream",
     "text": [
      "Train Loss: 0.5167, Train Acc: 82.05%\n",
      "Val Loss: 0.5076, Val Acc: 82.60%\n",
      "New best validation accuracy: 82.60%\n",
      "\n",
      "Epoch 29/30\n",
      "--------------------------------------------------\n"
     ]
    },
    {
     "name": "stderr",
     "output_type": "stream",
     "text": [
      "Training: 100%|████████████████████████████████████████████████████████████████████████████████████████████████████████████████████████████████| 313/313 [00:01<00:00, 205.95it/s, Loss=0.4795, Acc=82.40%]\n",
      "Validation: 100%|█████████████████████████████████████████████████████████████████████████████████████████████████████████████████████████████████████████████████████████| 79/79 [00:00<00:00, 258.60it/s]\n"
     ]
    },
    {
     "name": "stdout",
     "output_type": "stream",
     "text": [
      "Train Loss: 0.5101, Train Acc: 82.40%\n",
      "Val Loss: 0.5053, Val Acc: 82.39%\n",
      "\n",
      "Epoch 30/30\n",
      "--------------------------------------------------\n"
     ]
    },
    {
     "name": "stderr",
     "output_type": "stream",
     "text": [
      "Training: 100%|████████████████████████████████████████████████████████████████████████████████████████████████████████████████████████████████| 313/313 [00:01<00:00, 203.90it/s, Loss=0.4010, Acc=82.79%]\n",
      "Validation: 100%|█████████████████████████████████████████████████████████████████████████████████████████████████████████████████████████████████████████████████████████| 79/79 [00:00<00:00, 270.90it/s]\n"
     ]
    },
    {
     "name": "stdout",
     "output_type": "stream",
     "text": [
      "Train Loss: 0.5003, Train Acc: 82.79%\n",
      "Val Loss: 0.4691, Val Acc: 83.50%\n",
      "New best validation accuracy: 83.50%\n",
      "\n",
      "Training completed in 53.43s\n",
      "Best validation accuracy: 83.50%\n",
      "model registered with id: SimpleCNN_20251024_174825\n",
      "best validation accuracy: 83.5000\n",
      "final training accuracy: 82.7875\n",
      "final validation accuracy: 83.5000\n"
     ]
    }
   ],
   "source": [
    "trainer = Trainer(model, config)\n",
    "\n",
    "print(\"starting training...\")\n",
    "history = trainer.fit(train_loader, val_loader)\n",
    "\n",
    "print(f\"best validation accuracy: {max(history['val_acc']):.4f}\")\n",
    "print(f\"final training accuracy: {history['train_acc'][-1]:.4f}\")\n",
    "print(f\"final validation accuracy: {history['val_acc'][-1]:.4f}\")\n"
   ]
  },
  {
   "cell_type": "markdown",
   "metadata": {},
   "source": [
    "## plot training curves\n"
   ]
  },
  {
   "cell_type": "code",
   "execution_count": 10,
   "metadata": {},
   "outputs": [
    {
     "data": {
      "image/png": "[encoded data removed]",
      "text/plain": [
       "<Figure size 1200x400 with 2 Axes>"
      ]
     },
     "metadata": {},
     "output_type": "display_data"
    }
   ],
   "source": [
    "plot_training_curves(history=history)"
   ]
  },
  {
   "cell_type": "markdown",
   "metadata": {},
   "source": [
    "## test improved cnn\n"
   ]
  },
  {
   "cell_type": "code",
   "execution_count": 11,
   "metadata": {},
   "outputs": [
    {
     "name": "stdout",
     "output_type": "stream",
     "text": [
      "improved model parameters: 1,186,826\n",
      "training improved cnn...\n",
      "Training on cuda\n",
      "Model parameters: 1,186,826\n",
      "\n",
      "Epoch 1/30\n",
      "--------------------------------------------------\n"
     ]
    },
    {
     "name": "stderr",
     "output_type": "stream",
     "text": [
      "Training: 100%|█████████████████████████████████████████████████████████████████████████████████████████████████████████████████████████████████| 313/313 [00:08<00:00, 36.08it/s, Loss=1.2372, Acc=41.65%]\n",
      "Validation: 100%|█████████████████████████████████████████████████████████████████████████████████████████████████████████████████████████████████████████████████████████| 79/79 [00:00<00:00, 102.61it/s]\n"
     ]
    },
    {
     "name": "stdout",
     "output_type": "stream",
     "text": [
      "Train Loss: 1.5737, Train Acc: 41.65%\n",
      "Val Loss: 1.3842, Val Acc: 49.94%\n",
      "New best validation accuracy: 49.94%\n",
      "\n",
      "Epoch 2/30\n",
      "--------------------------------------------------\n"
     ]
    },
    {
     "name": "stderr",
     "output_type": "stream",
     "text": [
      "Training: 100%|█████████████████████████████████████████████████████████████████████████████████████████████████████████████████████████████████| 313/313 [00:08<00:00, 36.18it/s, Loss=1.0940, Acc=55.52%]\n",
      "Validation: 100%|█████████████████████████████████████████████████████████████████████████████████████████████████████████████████████████████████████████████████████████| 79/79 [00:00<00:00, 101.33it/s]\n"
     ]
    },
    {
     "name": "stdout",
     "output_type": "stream",
     "text": [
      "Train Loss: 1.2360, Train Acc: 55.52%\n",
      "Val Loss: 1.3428, Val Acc: 55.58%\n",
      "New best validation accuracy: 55.58%\n",
      "\n",
      "Epoch 3/30\n",
      "--------------------------------------------------\n"
     ]
    },
    {
     "name": "stderr",
     "output_type": "stream",
     "text": [
      "Training: 100%|█████████████████████████████████████████████████████████████████████████████████████████████████████████████████████████████████| 313/313 [00:08<00:00, 36.00it/s, Loss=1.2488, Acc=60.77%]\n",
      "Validation: 100%|█████████████████████████████████████████████████████████████████████████████████████████████████████████████████████████████████████████████████████████| 79/79 [00:00<00:00, 100.65it/s]\n"
     ]
    },
    {
     "name": "stdout",
     "output_type": "stream",
     "text": [
      "Train Loss: 1.0969, Train Acc: 60.77%\n",
      "Val Loss: 1.0740, Val Acc: 62.00%\n",
      "New best validation accuracy: 62.00%\n",
      "\n",
      "Epoch 4/30\n",
      "--------------------------------------------------\n"
     ]
    },
    {
     "name": "stderr",
     "output_type": "stream",
     "text": [
      "Training: 100%|█████████████████████████████████████████████████████████████████████████████████████████████████████████████████████████████████| 313/313 [00:08<00:00, 36.34it/s, Loss=1.0799, Acc=64.67%]\n",
      "Validation: 100%|█████████████████████████████████████████████████████████████████████████████████████████████████████████████████████████████████████████████████████████| 79/79 [00:00<00:00, 104.64it/s]\n"
     ]
    },
    {
     "name": "stdout",
     "output_type": "stream",
     "text": [
      "Train Loss: 0.9982, Train Acc: 64.67%\n",
      "Val Loss: 1.0357, Val Acc: 63.48%\n",
      "New best validation accuracy: 63.48%\n",
      "\n",
      "Epoch 5/30\n",
      "--------------------------------------------------\n"
     ]
    },
    {
     "name": "stderr",
     "output_type": "stream",
     "text": [
      "Training: 100%|█████████████████████████████████████████████████████████████████████████████████████████████████████████████████████████████████| 313/313 [00:08<00:00, 36.31it/s, Loss=0.8068, Acc=67.05%]\n",
      "Validation: 100%|█████████████████████████████████████████████████████████████████████████████████████████████████████████████████████████████████████████████████████████| 79/79 [00:00<00:00, 107.23it/s]\n"
     ]
    },
    {
     "name": "stdout",
     "output_type": "stream",
     "text": [
      "Train Loss: 0.9314, Train Acc: 67.05%\n",
      "Val Loss: 1.0035, Val Acc: 65.57%\n",
      "New best validation accuracy: 65.57%\n",
      "\n",
      "Epoch 6/30\n",
      "--------------------------------------------------\n"
     ]
    },
    {
     "name": "stderr",
     "output_type": "stream",
     "text": [
      "Training: 100%|█████████████████████████████████████████████████████████████████████████████████████████████████████████████████████████████████| 313/313 [00:08<00:00, 36.21it/s, Loss=1.0037, Acc=69.02%]\n",
      "Validation: 100%|█████████████████████████████████████████████████████████████████████████████████████████████████████████████████████████████████████████████████████████| 79/79 [00:00<00:00, 105.21it/s]\n"
     ]
    },
    {
     "name": "stdout",
     "output_type": "stream",
     "text": [
      "Train Loss: 0.8720, Train Acc: 69.02%\n",
      "Val Loss: 1.0280, Val Acc: 65.67%\n",
      "New best validation accuracy: 65.67%\n",
      "\n",
      "Epoch 7/30\n",
      "--------------------------------------------------\n"
     ]
    },
    {
     "name": "stderr",
     "output_type": "stream",
     "text": [
      "Training: 100%|█████████████████████████████████████████████████████████████████████████████████████████████████████████████████████████████████| 313/313 [00:08<00:00, 36.21it/s, Loss=0.8016, Acc=70.75%]\n",
      "Validation: 100%|█████████████████████████████████████████████████████████████████████████████████████████████████████████████████████████████████████████████████████████| 79/79 [00:00<00:00, 106.34it/s]\n"
     ]
    },
    {
     "name": "stdout",
     "output_type": "stream",
     "text": [
      "Train Loss: 0.8252, Train Acc: 70.75%\n",
      "Val Loss: 0.9150, Val Acc: 67.22%\n",
      "New best validation accuracy: 67.22%\n",
      "\n",
      "Epoch 8/30\n",
      "--------------------------------------------------\n"
     ]
    },
    {
     "name": "stderr",
     "output_type": "stream",
     "text": [
      "Training: 100%|█████████████████████████████████████████████████████████████████████████████████████████████████████████████████████████████████| 313/313 [00:08<00:00, 36.14it/s, Loss=0.7955, Acc=73.00%]\n",
      "Validation: 100%|█████████████████████████████████████████████████████████████████████████████████████████████████████████████████████████████████████████████████████████| 79/79 [00:00<00:00, 106.40it/s]\n"
     ]
    },
    {
     "name": "stdout",
     "output_type": "stream",
     "text": [
      "Train Loss: 0.7697, Train Acc: 73.00%\n",
      "Val Loss: 0.8170, Val Acc: 72.20%\n",
      "New best validation accuracy: 72.20%\n",
      "\n",
      "Epoch 9/30\n",
      "--------------------------------------------------\n"
     ]
    },
    {
     "name": "stderr",
     "output_type": "stream",
     "text": [
      "Training: 100%|█████████████████████████████████████████████████████████████████████████████████████████████████████████████████████████████████| 313/313 [00:08<00:00, 36.02it/s, Loss=0.7684, Acc=74.19%]\n",
      "Validation: 100%|█████████████████████████████████████████████████████████████████████████████████████████████████████████████████████████████████████████████████████████| 79/79 [00:00<00:00, 103.86it/s]\n"
     ]
    },
    {
     "name": "stdout",
     "output_type": "stream",
     "text": [
      "Train Loss: 0.7365, Train Acc: 74.19%\n",
      "Val Loss: 0.8346, Val Acc: 71.31%\n",
      "\n",
      "Epoch 10/30\n",
      "--------------------------------------------------\n"
     ]
    },
    {
     "name": "stderr",
     "output_type": "stream",
     "text": [
      "Training: 100%|█████████████████████████████████████████████████████████████████████████████████████████████████████████████████████████████████| 313/313 [00:08<00:00, 35.11it/s, Loss=0.6075, Acc=75.54%]\n",
      "Validation: 100%|█████████████████████████████████████████████████████████████████████████████████████████████████████████████████████████████████████████████████████████| 79/79 [00:00<00:00, 101.41it/s]\n"
     ]
    },
    {
     "name": "stdout",
     "output_type": "stream",
     "text": [
      "Train Loss: 0.6993, Train Acc: 75.54%\n",
      "Val Loss: 0.8305, Val Acc: 72.14%\n",
      "\n",
      "Epoch 11/30\n",
      "--------------------------------------------------\n"
     ]
    },
    {
     "name": "stderr",
     "output_type": "stream",
     "text": [
      "Training: 100%|█████████████████████████████████████████████████████████████████████████████████████████████████████████████████████████████████| 313/313 [00:09<00:00, 34.78it/s, Loss=0.6470, Acc=76.68%]\n",
      "Validation: 100%|██████████████████████████████████████████████████████████████████████████████████████████████████████████████████████████████████████████████████████████| 79/79 [00:00<00:00, 99.46it/s]\n"
     ]
    },
    {
     "name": "stdout",
     "output_type": "stream",
     "text": [
      "Train Loss: 0.6716, Train Acc: 76.68%\n",
      "Val Loss: 0.6865, Val Acc: 75.94%\n",
      "New best validation accuracy: 75.94%\n",
      "\n",
      "Epoch 12/30\n",
      "--------------------------------------------------\n"
     ]
    },
    {
     "name": "stderr",
     "output_type": "stream",
     "text": [
      "Training: 100%|█████████████████████████████████████████████████████████████████████████████████████████████████████████████████████████████████| 313/313 [00:09<00:00, 34.07it/s, Loss=0.4514, Acc=77.72%]\n",
      "Validation: 100%|██████████████████████████████████████████████████████████████████████████████████████████████████████████████████████████████████████████████████████████| 79/79 [00:00<00:00, 95.94it/s]\n"
     ]
    },
    {
     "name": "stdout",
     "output_type": "stream",
     "text": [
      "Train Loss: 0.6460, Train Acc: 77.72%\n",
      "Val Loss: 0.7202, Val Acc: 75.43%\n",
      "\n",
      "Epoch 13/30\n",
      "--------------------------------------------------\n"
     ]
    },
    {
     "name": "stderr",
     "output_type": "stream",
     "text": [
      "Training: 100%|█████████████████████████████████████████████████████████████████████████████████████████████████████████████████████████████████| 313/313 [00:09<00:00, 33.50it/s, Loss=0.5345, Acc=78.63%]\n",
      "Validation: 100%|██████████████████████████████████████████████████████████████████████████████████████████████████████████████████████████████████████████████████████████| 79/79 [00:00<00:00, 91.08it/s]\n"
     ]
    },
    {
     "name": "stdout",
     "output_type": "stream",
     "text": [
      "Train Loss: 0.6163, Train Acc: 78.63%\n",
      "Val Loss: 0.6593, Val Acc: 77.30%\n",
      "New best validation accuracy: 77.30%\n",
      "\n",
      "Epoch 14/30\n",
      "--------------------------------------------------\n"
     ]
    },
    {
     "name": "stderr",
     "output_type": "stream",
     "text": [
      "Training: 100%|█████████████████████████████████████████████████████████████████████████████████████████████████████████████████████████████████| 313/313 [00:09<00:00, 33.62it/s, Loss=0.6293, Acc=79.31%]\n",
      "Validation: 100%|██████████████████████████████████████████████████████████████████████████████████████████████████████████████████████████████████████████████████████████| 79/79 [00:00<00:00, 92.78it/s]\n"
     ]
    },
    {
     "name": "stdout",
     "output_type": "stream",
     "text": [
      "Train Loss: 0.5943, Train Acc: 79.31%\n",
      "Val Loss: 0.6514, Val Acc: 77.42%\n",
      "New best validation accuracy: 77.42%\n",
      "\n",
      "Epoch 15/30\n",
      "--------------------------------------------------\n"
     ]
    },
    {
     "name": "stderr",
     "output_type": "stream",
     "text": [
      "Training: 100%|█████████████████████████████████████████████████████████████████████████████████████████████████████████████████████████████████| 313/313 [00:09<00:00, 33.76it/s, Loss=0.6532, Acc=80.01%]\n",
      "Validation: 100%|█████████████████████████████████████████████████████████████████████████████████████████████████████████████████████████████████████████████████████████| 79/79 [00:00<00:00, 100.57it/s]\n"
     ]
    },
    {
     "name": "stdout",
     "output_type": "stream",
     "text": [
      "Train Loss: 0.5771, Train Acc: 80.01%\n",
      "Val Loss: 0.6520, Val Acc: 77.70%\n",
      "New best validation accuracy: 77.70%\n",
      "\n",
      "Epoch 16/30\n",
      "--------------------------------------------------\n"
     ]
    },
    {
     "name": "stderr",
     "output_type": "stream",
     "text": [
      "Training: 100%|█████████████████████████████████████████████████████████████████████████████████████████████████████████████████████████████████| 313/313 [00:09<00:00, 34.40it/s, Loss=0.6802, Acc=81.14%]\n",
      "Validation: 100%|██████████████████████████████████████████████████████████████████████████████████████████████████████████████████████████████████████████████████████████| 79/79 [00:00<00:00, 99.32it/s]\n"
     ]
    },
    {
     "name": "stdout",
     "output_type": "stream",
     "text": [
      "Train Loss: 0.5570, Train Acc: 81.14%\n",
      "Val Loss: 0.7489, Val Acc: 75.15%\n",
      "\n",
      "Epoch 17/30\n",
      "--------------------------------------------------\n"
     ]
    },
    {
     "name": "stderr",
     "output_type": "stream",
     "text": [
      "Training: 100%|█████████████████████████████████████████████████████████████████████████████████████████████████████████████████████████████████| 313/313 [00:09<00:00, 34.03it/s, Loss=0.4425, Acc=81.28%]\n",
      "Validation: 100%|██████████████████████████████████████████████████████████████████████████████████████████████████████████████████████████████████████████████████████████| 79/79 [00:00<00:00, 91.68it/s]\n"
     ]
    },
    {
     "name": "stdout",
     "output_type": "stream",
     "text": [
      "Train Loss: 0.5393, Train Acc: 81.28%\n",
      "Val Loss: 0.6456, Val Acc: 79.37%\n",
      "New best validation accuracy: 79.37%\n",
      "\n",
      "Epoch 18/30\n",
      "--------------------------------------------------\n"
     ]
    },
    {
     "name": "stderr",
     "output_type": "stream",
     "text": [
      "Training: 100%|█████████████████████████████████████████████████████████████████████████████████████████████████████████████████████████████████| 313/313 [00:09<00:00, 32.82it/s, Loss=0.5472, Acc=81.61%]\n",
      "Validation: 100%|██████████████████████████████████████████████████████████████████████████████████████████████████████████████████████████████████████████████████████████| 79/79 [00:00<00:00, 82.51it/s]\n"
     ]
    },
    {
     "name": "stdout",
     "output_type": "stream",
     "text": [
      "Train Loss: 0.5280, Train Acc: 81.61%\n",
      "Val Loss: 0.5477, Val Acc: 81.22%\n",
      "New best validation accuracy: 81.22%\n",
      "\n",
      "Epoch 19/30\n",
      "--------------------------------------------------\n"
     ]
    },
    {
     "name": "stderr",
     "output_type": "stream",
     "text": [
      "Training: 100%|█████████████████████████████████████████████████████████████████████████████████████████████████████████████████████████████████| 313/313 [00:09<00:00, 32.27it/s, Loss=0.4977, Acc=82.55%]\n",
      "Validation: 100%|██████████████████████████████████████████████████████████████████████████████████████████████████████████████████████████████████████████████████████████| 79/79 [00:00<00:00, 88.77it/s]\n"
     ]
    },
    {
     "name": "stdout",
     "output_type": "stream",
     "text": [
      "Train Loss: 0.5047, Train Acc: 82.55%\n",
      "Val Loss: 0.5701, Val Acc: 80.95%\n",
      "\n",
      "Epoch 20/30\n",
      "--------------------------------------------------\n"
     ]
    },
    {
     "name": "stderr",
     "output_type": "stream",
     "text": [
      "Training: 100%|█████████████████████████████████████████████████████████████████████████████████████████████████████████████████████████████████| 313/313 [00:09<00:00, 32.57it/s, Loss=0.7760, Acc=82.81%]\n",
      "Validation: 100%|██████████████████████████████████████████████████████████████████████████████████████████████████████████████████████████████████████████████████████████| 79/79 [00:00<00:00, 94.63it/s]\n"
     ]
    },
    {
     "name": "stdout",
     "output_type": "stream",
     "text": [
      "Train Loss: 0.5031, Train Acc: 82.81%\n",
      "Val Loss: 0.6088, Val Acc: 80.04%\n",
      "\n",
      "Epoch 21/30\n",
      "--------------------------------------------------\n"
     ]
    },
    {
     "name": "stderr",
     "output_type": "stream",
     "text": [
      "Training: 100%|█████████████████████████████████████████████████████████████████████████████████████████████████████████████████████████████████| 313/313 [00:09<00:00, 32.81it/s, Loss=0.4991, Acc=83.48%]\n",
      "Validation: 100%|██████████████████████████████████████████████████████████████████████████████████████████████████████████████████████████████████████████████████████████| 79/79 [00:00<00:00, 94.94it/s]\n"
     ]
    },
    {
     "name": "stdout",
     "output_type": "stream",
     "text": [
      "Train Loss: 0.4838, Train Acc: 83.48%\n",
      "Val Loss: 0.5418, Val Acc: 81.19%\n",
      "\n",
      "Epoch 22/30\n",
      "--------------------------------------------------\n"
     ]
    },
    {
     "name": "stderr",
     "output_type": "stream",
     "text": [
      "Training: 100%|█████████████████████████████████████████████████████████████████████████████████████████████████████████████████████████████████| 313/313 [00:09<00:00, 32.68it/s, Loss=0.7436, Acc=83.69%]\n",
      "Validation: 100%|██████████████████████████████████████████████████████████████████████████████████████████████████████████████████████████████████████████████████████████| 79/79 [00:00<00:00, 92.31it/s]\n"
     ]
    },
    {
     "name": "stdout",
     "output_type": "stream",
     "text": [
      "Train Loss: 0.4741, Train Acc: 83.69%\n",
      "Val Loss: 0.6035, Val Acc: 79.98%\n",
      "\n",
      "Epoch 23/30\n",
      "--------------------------------------------------\n"
     ]
    },
    {
     "name": "stderr",
     "output_type": "stream",
     "text": [
      "Training: 100%|█████████████████████████████████████████████████████████████████████████████████████████████████████████████████████████████████| 313/313 [00:09<00:00, 32.44it/s, Loss=0.4355, Acc=84.11%]\n",
      "Validation: 100%|██████████████████████████████████████████████████████████████████████████████████████████████████████████████████████████████████████████████████████████| 79/79 [00:00<00:00, 83.97it/s]\n"
     ]
    },
    {
     "name": "stdout",
     "output_type": "stream",
     "text": [
      "Train Loss: 0.4561, Train Acc: 84.11%\n",
      "Val Loss: 0.5200, Val Acc: 82.15%\n",
      "New best validation accuracy: 82.15%\n",
      "\n",
      "Epoch 24/30\n",
      "--------------------------------------------------\n"
     ]
    },
    {
     "name": "stderr",
     "output_type": "stream",
     "text": [
      "Training: 100%|█████████████████████████████████████████████████████████████████████████████████████████████████████████████████████████████████| 313/313 [00:09<00:00, 32.84it/s, Loss=0.4184, Acc=84.28%]\n",
      "Validation: 100%|██████████████████████████████████████████████████████████████████████████████████████████████████████████████████████████████████████████████████████████| 79/79 [00:00<00:00, 92.41it/s]\n"
     ]
    },
    {
     "name": "stdout",
     "output_type": "stream",
     "text": [
      "Train Loss: 0.4572, Train Acc: 84.28%\n",
      "Val Loss: 0.5194, Val Acc: 82.24%\n",
      "New best validation accuracy: 82.24%\n",
      "\n",
      "Epoch 25/30\n",
      "--------------------------------------------------\n"
     ]
    },
    {
     "name": "stderr",
     "output_type": "stream",
     "text": [
      "Training: 100%|█████████████████████████████████████████████████████████████████████████████████████████████████████████████████████████████████| 313/313 [00:09<00:00, 32.05it/s, Loss=0.4555, Acc=84.81%]\n",
      "Validation: 100%|██████████████████████████████████████████████████████████████████████████████████████████████████████████████████████████████████████████████████████████| 79/79 [00:00<00:00, 91.48it/s]\n"
     ]
    },
    {
     "name": "stdout",
     "output_type": "stream",
     "text": [
      "Train Loss: 0.4411, Train Acc: 84.81%\n",
      "Val Loss: 0.5235, Val Acc: 82.75%\n",
      "New best validation accuracy: 82.75%\n",
      "\n",
      "Epoch 26/30\n",
      "--------------------------------------------------\n"
     ]
    },
    {
     "name": "stderr",
     "output_type": "stream",
     "text": [
      "Training: 100%|█████████████████████████████████████████████████████████████████████████████████████████████████████████████████████████████████| 313/313 [00:09<00:00, 32.63it/s, Loss=0.3694, Acc=85.10%]\n",
      "Validation: 100%|██████████████████████████████████████████████████████████████████████████████████████████████████████████████████████████████████████████████████████████| 79/79 [00:00<00:00, 93.14it/s]\n"
     ]
    },
    {
     "name": "stdout",
     "output_type": "stream",
     "text": [
      "Train Loss: 0.4274, Train Acc: 85.10%\n",
      "Val Loss: 0.5083, Val Acc: 82.95%\n",
      "New best validation accuracy: 82.95%\n",
      "\n",
      "Epoch 27/30\n",
      "--------------------------------------------------\n"
     ]
    },
    {
     "name": "stderr",
     "output_type": "stream",
     "text": [
      "Training: 100%|█████████████████████████████████████████████████████████████████████████████████████████████████████████████████████████████████| 313/313 [00:09<00:00, 31.52it/s, Loss=0.5656, Acc=85.29%]\n",
      "Validation: 100%|██████████████████████████████████████████████████████████████████████████████████████████████████████████████████████████████████████████████████████████| 79/79 [00:01<00:00, 72.85it/s]\n"
     ]
    },
    {
     "name": "stdout",
     "output_type": "stream",
     "text": [
      "Train Loss: 0.4253, Train Acc: 85.29%\n",
      "Val Loss: 0.5836, Val Acc: 81.14%\n",
      "\n",
      "Epoch 28/30\n",
      "--------------------------------------------------\n"
     ]
    },
    {
     "name": "stderr",
     "output_type": "stream",
     "text": [
      "Training: 100%|█████████████████████████████████████████████████████████████████████████████████████████████████████████████████████████████████| 313/313 [00:09<00:00, 31.81it/s, Loss=0.5354, Acc=85.66%]\n",
      "Validation: 100%|██████████████████████████████████████████████████████████████████████████████████████████████████████████████████████████████████████████████████████████| 79/79 [00:00<00:00, 91.56it/s]\n"
     ]
    },
    {
     "name": "stdout",
     "output_type": "stream",
     "text": [
      "Train Loss: 0.4140, Train Acc: 85.66%\n",
      "Val Loss: 0.6064, Val Acc: 80.74%\n",
      "\n",
      "Epoch 29/30\n",
      "--------------------------------------------------\n"
     ]
    },
    {
     "name": "stderr",
     "output_type": "stream",
     "text": [
      "Training: 100%|█████████████████████████████████████████████████████████████████████████████████████████████████████████████████████████████████| 313/313 [00:09<00:00, 32.58it/s, Loss=0.5592, Acc=85.88%]\n",
      "Validation: 100%|██████████████████████████████████████████████████████████████████████████████████████████████████████████████████████████████████████████████████████████| 79/79 [00:00<00:00, 92.71it/s]\n"
     ]
    },
    {
     "name": "stdout",
     "output_type": "stream",
     "text": [
      "Train Loss: 0.4027, Train Acc: 85.88%\n",
      "Val Loss: 0.4648, Val Acc: 84.21%\n",
      "New best validation accuracy: 84.21%\n",
      "\n",
      "Epoch 30/30\n",
      "--------------------------------------------------\n"
     ]
    },
    {
     "name": "stderr",
     "output_type": "stream",
     "text": [
      "Training: 100%|█████████████████████████████████████████████████████████████████████████████████████████████████████████████████████████████████| 313/313 [00:09<00:00, 32.04it/s, Loss=0.5435, Acc=86.19%]\n",
      "Validation: 100%|██████████████████████████████████████████████████████████████████████████████████████████████████████████████████████████████████████████████████████████| 79/79 [00:00<00:00, 84.30it/s]"
     ]
    },
    {
     "name": "stdout",
     "output_type": "stream",
     "text": [
      "Train Loss: 0.3957, Train Acc: 86.19%\n",
      "Val Loss: 0.5049, Val Acc: 83.42%\n",
      "\n",
      "Training completed in 302.79s\n",
      "Best validation accuracy: 84.21%\n",
      "model registered with id: ImprovedCNN_20251024_175420\n",
      "improved best validation accuracy: 84.2100\n",
      "improved final training accuracy: 86.1900\n",
      "improved final validation accuracy: 83.4200\n"
     ]
    },
    {
     "name": "stderr",
     "output_type": "stream",
     "text": [
      "\n"
     ]
    }
   ],
   "source": [
    "improved_model = create_model('improved_cnn', config).to(config.device)\n",
    "improved_trainer = Trainer(improved_model, config)\n",
    "\n",
    "print(f\"improved model parameters: {sum(p.numel() for p in improved_model.parameters()):,}\")\n",
    "\n",
    "print(\"training improved cnn...\")\n",
    "improved_history = improved_trainer.fit(train_loader, val_loader)\n",
    "\n",
    "print(f\"improved best validation accuracy: {max(improved_history['val_acc']):.4f}\")\n",
    "print(f\"improved final training accuracy: {improved_history['train_acc'][-1]:.4f}\")\n",
    "print(f\"improved final validation accuracy: {improved_history['val_acc'][-1]:.4f}\")\n"
   ]
  },
  {
   "cell_type": "markdown",
   "metadata": {},
   "source": [
    "## compare models\n"
   ]
  },
  {
   "cell_type": "code",
   "execution_count": 12,
   "metadata": {},
   "outputs": [
    {
     "data": {
      "image/png": "[encoded data removed]",
      "text/plain": [
       "<Figure size 1500x500 with 2 Axes>"
      ]
     },
     "metadata": {},
     "output_type": "display_data"
    },
    {
     "name": "stdout",
     "output_type": "stream",
     "text": [
      "simple cnn best val acc: 83.5000\n",
      "improved cnn best val acc: 84.2100\n",
      "improvement: 0.7100\n"
     ]
    }
   ],
   "source": [
    "fig, axes = plt.subplots(1, 2, figsize=(15, 5))\n",
    "\n",
    "axes[0].plot(history['train_acc'], label='simple cnn train', alpha=0.7)\n",
    "axes[0].plot(history['val_acc'], label='simple cnn val', alpha=0.7)\n",
    "axes[0].plot(improved_history['train_acc'], label='improved cnn train', alpha=0.7)\n",
    "axes[0].plot(improved_history['val_acc'], label='improved cnn val', alpha=0.7)\n",
    "axes[0].set_title('accuracy comparison')\n",
    "axes[0].set_xlabel('epoch')\n",
    "axes[0].set_ylabel('accuracy')\n",
    "axes[0].legend()\n",
    "axes[0].grid(True)\n",
    "\n",
    "axes[1].plot(history['train_loss'], label='simple cnn train', alpha=0.7)\n",
    "axes[1].plot(history['val_loss'], label='simple cnn val', alpha=0.7)\n",
    "axes[1].plot(improved_history['train_loss'], label='improved cnn train', alpha=0.7)\n",
    "axes[1].plot(improved_history['val_loss'], label='improved cnn val', alpha=0.7)\n",
    "axes[1].set_title('loss comparison')\n",
    "axes[1].set_xlabel('epoch')\n",
    "axes[1].set_ylabel('loss')\n",
    "axes[1].legend()\n",
    "axes[1].grid(True)\n",
    "\n",
    "plt.tight_layout()\n",
    "plt.show()\n",
    "\n",
    "print(f\"simple cnn best val acc: {max(history['val_acc']):.4f}\")\n",
    "print(f\"improved cnn best val acc: {max(improved_history['val_acc']):.4f}\")\n",
    "print(f\"improvement: {max(improved_history['val_acc']) - max(history['val_acc']):.4f}\")\n"
   ]
  }
 ],
 "metadata": {
  "kernelspec": {
   "display_name": "Python 3 (ipykernel)",
   "language": "python",
   "name": "python3"
  },
  "language_info": {
   "codemirror_mode": {
    "name": "ipython",
    "version": 3
   },
   "file_extension": ".py",
   "mimetype": "text/x-python",
   "name": "python",
   "nbconvert_exporter": "python",
   "pygments_lexer": "ipython3",
   "version": "3.12.3"
  }
 },
 "nbformat": 4,
 "nbformat_minor": 4
}
