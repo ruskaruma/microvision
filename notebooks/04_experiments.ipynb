{
 "cells": [
  {
   "cell_type": "markdown",
   "metadata": {},
   "source": [
    "# 04: experiments\n",
    "\n",
    "this notebook runs systematic experiments and compares results from the model registry.\n"
   ]
  },
  {
   "cell_type": "code",
   "execution_count": 1,
   "metadata": {},
   "outputs": [
    {
     "name": "stdout",
     "output_type": "stream",
     "text": [
      "device: cuda\n"
     ]
    }
   ],
   "source": [
    "import sys\n",
    "sys.path.append('../src')\n",
    "\n",
    "import torch\n",
    "import matplotlib.pyplot as plt\n",
    "import numpy as np\n",
    "import pandas as pd\n",
    "from src.config import Config\n",
    "from src.datasets import get_cifar10_loaders\n",
    "from src.models import create_model\n",
    "from src.trainer import Trainer\n",
    "from src.utils import set_seed, calculate_model_size\n",
    "from src.model_registry import registry\n",
    "\n",
    "set_seed(42)\n",
    "config = Config()\n",
    "print(f\"device: {config.device}\")\n"
   ]
  },
  {
   "cell_type": "code",
   "execution_count": 2,
   "metadata": {},
   "outputs": [
    {
     "name": "stdout",
     "output_type": "stream",
     "text": [
      "data loaded: 40000 train, 10000 val, 10000 test\n"
     ]
    }
   ],
   "source": [
    "#load data\n",
    "train_loader, val_loader, test_loader = get_cifar10_loaders(config)\n",
    "print(f\"data loaded: {len(train_loader.dataset)} train, {len(val_loader.dataset)} val, {len(test_loader.dataset)} test\")\n"
   ]
  },
  {
   "cell_type": "code",
   "execution_count": 3,
   "metadata": {},
   "outputs": [
    {
     "name": "stdout",
     "output_type": "stream",
     "text": [
      "model comparison:\n",
      "                   model_id  model_name  parameters  best_val_acc  final_train_acc  final_val_acc  epochs\n",
      "  SimpleCNN_20251025_130236   SimpleCNN     1147914         83.50          82.7875          83.50      30\n",
      "ImprovedCNN_20251025_130939 ImprovedCNN     1186826         84.21          86.1900          83.42      30\n"
     ]
    }
   ],
   "source": [
    "#analysis of  existing models\n",
    "models = registry.list_models()\n",
    "results = []\n",
    "\n",
    "for model_id, info in models.items():\n",
    "    model_name = info['model_name']\n",
    "    history = info['history']\n",
    "    parameters = info['parameters']\n",
    "    best_val_acc = max(history['val_acc'])\n",
    "    final_train_acc = history['train_acc'][-1]\n",
    "    final_val_acc = history['val_acc'][-1]\n",
    "    results.append({\n",
    "        'model_id': model_id,\n",
    "        'model_name': model_name,\n",
    "        'parameters': parameters,\n",
    "        'best_val_acc': best_val_acc,\n",
    "        'final_train_acc': final_train_acc,\n",
    "        'final_val_acc': final_val_acc,\n",
    "        'epochs': len(history['train_acc'])\n",
    "    })\n",
    "\n",
    "df = pd.DataFrame(results)\n",
    "print(\"model comparison:\")\n",
    "print(df.to_string(index=False))\n"
   ]
  },
  {
   "cell_type": "code",
   "execution_count": 4,
   "metadata": {},
   "outputs": [
    {
     "name": "stdout",
     "output_type": "stream",
     "text": [
      "running new experiment with different learning rate...\n",
      "new config: lr=0.01, epochs=20\n",
      "training new model...\n",
      "Training on cuda\n",
      "Model parameters: 1,147,914\n",
      "\n",
      "Epoch 1/20\n",
      "--------------------------------------------------\n"
     ]
    },
    {
     "name": "stderr",
     "output_type": "stream",
     "text": [
      "Training: 100%|█████| 313/313 [00:02<00:00, 110.92it/s, Loss=1.3613, Acc=40.47%]\n",
      "Validation: 100%|██████████████████████████████| 79/79 [00:00<00:00, 112.94it/s]\n"
     ]
    },
    {
     "name": "stdout",
     "output_type": "stream",
     "text": [
      "Train Loss: 1.6073, Train Acc: 40.47%\n",
      "Val Loss: 1.3510, Val Acc: 50.58%\n",
      "New best validation accuracy: 50.58%\n",
      "\n",
      "Epoch 2/20\n",
      "--------------------------------------------------\n"
     ]
    },
    {
     "name": "stderr",
     "output_type": "stream",
     "text": [
      "Training: 100%|█████| 313/313 [00:02<00:00, 133.14it/s, Loss=1.2784, Acc=52.59%]\n",
      "Validation: 100%|██████████████████████████████| 79/79 [00:00<00:00, 109.21it/s]\n"
     ]
    },
    {
     "name": "stdout",
     "output_type": "stream",
     "text": [
      "Train Loss: 1.3038, Train Acc: 52.59%\n",
      "Val Loss: 1.1031, Val Acc: 60.15%\n",
      "New best validation accuracy: 60.15%\n",
      "\n",
      "Epoch 3/20\n",
      "--------------------------------------------------\n"
     ]
    },
    {
     "name": "stderr",
     "output_type": "stream",
     "text": [
      "Training: 100%|█████| 313/313 [00:02<00:00, 129.65it/s, Loss=0.8831, Acc=58.12%]\n",
      "Validation: 100%|██████████████████████████████| 79/79 [00:00<00:00, 108.82it/s]\n"
     ]
    },
    {
     "name": "stdout",
     "output_type": "stream",
     "text": [
      "Train Loss: 1.1616, Train Acc: 58.12%\n",
      "Val Loss: 0.9808, Val Acc: 65.04%\n",
      "New best validation accuracy: 65.04%\n",
      "\n",
      "Epoch 4/20\n",
      "--------------------------------------------------\n"
     ]
    },
    {
     "name": "stderr",
     "output_type": "stream",
     "text": [
      "Training: 100%|█████| 313/313 [00:02<00:00, 118.11it/s, Loss=0.8502, Acc=61.78%]\n",
      "Validation: 100%|██████████████████████████████| 79/79 [00:00<00:00, 111.07it/s]\n"
     ]
    },
    {
     "name": "stdout",
     "output_type": "stream",
     "text": [
      "Train Loss: 1.0702, Train Acc: 61.78%\n",
      "Val Loss: 0.8860, Val Acc: 68.33%\n",
      "New best validation accuracy: 68.33%\n",
      "\n",
      "Epoch 5/20\n",
      "--------------------------------------------------\n"
     ]
    },
    {
     "name": "stderr",
     "output_type": "stream",
     "text": [
      "Training: 100%|█████| 313/313 [00:02<00:00, 120.18it/s, Loss=0.7756, Acc=64.38%]\n",
      "Validation: 100%|██████████████████████████████| 79/79 [00:00<00:00, 108.49it/s]\n"
     ]
    },
    {
     "name": "stdout",
     "output_type": "stream",
     "text": [
      "Train Loss: 1.0022, Train Acc: 64.38%\n",
      "Val Loss: 0.9278, Val Acc: 67.87%\n",
      "\n",
      "Epoch 6/20\n",
      "--------------------------------------------------\n"
     ]
    },
    {
     "name": "stderr",
     "output_type": "stream",
     "text": [
      "Training: 100%|█████| 313/313 [00:02<00:00, 133.14it/s, Loss=1.0990, Acc=66.72%]\n",
      "Validation: 100%|██████████████████████████████| 79/79 [00:00<00:00, 104.60it/s]\n"
     ]
    },
    {
     "name": "stdout",
     "output_type": "stream",
     "text": [
      "Train Loss: 0.9356, Train Acc: 66.72%\n",
      "Val Loss: 0.8192, Val Acc: 70.96%\n",
      "New best validation accuracy: 70.96%\n",
      "\n",
      "Epoch 7/20\n",
      "--------------------------------------------------\n"
     ]
    },
    {
     "name": "stderr",
     "output_type": "stream",
     "text": [
      "Training: 100%|█████| 313/313 [00:02<00:00, 122.85it/s, Loss=1.2245, Acc=68.36%]\n",
      "Validation: 100%|██████████████████████████████| 79/79 [00:00<00:00, 101.63it/s]\n"
     ]
    },
    {
     "name": "stdout",
     "output_type": "stream",
     "text": [
      "Train Loss: 0.8992, Train Acc: 68.36%\n",
      "Val Loss: 0.7817, Val Acc: 72.85%\n",
      "New best validation accuracy: 72.85%\n",
      "\n",
      "Epoch 8/20\n",
      "--------------------------------------------------\n"
     ]
    },
    {
     "name": "stderr",
     "output_type": "stream",
     "text": [
      "Training: 100%|█████| 313/313 [00:02<00:00, 122.99it/s, Loss=0.7955, Acc=69.77%]\n",
      "Validation: 100%|███████████████████████████████| 79/79 [00:00<00:00, 94.00it/s]\n"
     ]
    },
    {
     "name": "stdout",
     "output_type": "stream",
     "text": [
      "Train Loss: 0.8579, Train Acc: 69.77%\n",
      "Val Loss: 0.7786, Val Acc: 72.17%\n",
      "\n",
      "Epoch 9/20\n",
      "--------------------------------------------------\n"
     ]
    },
    {
     "name": "stderr",
     "output_type": "stream",
     "text": [
      "Training: 100%|█████| 313/313 [00:02<00:00, 122.73it/s, Loss=0.8047, Acc=71.33%]\n",
      "Validation: 100%|██████████████████████████████| 79/79 [00:00<00:00, 158.54it/s]\n"
     ]
    },
    {
     "name": "stdout",
     "output_type": "stream",
     "text": [
      "Train Loss: 0.8203, Train Acc: 71.33%\n",
      "Val Loss: 0.7421, Val Acc: 73.48%\n",
      "New best validation accuracy: 73.48%\n",
      "\n",
      "Epoch 10/20\n",
      "--------------------------------------------------\n"
     ]
    },
    {
     "name": "stderr",
     "output_type": "stream",
     "text": [
      "Training: 100%|█████| 313/313 [00:02<00:00, 122.25it/s, Loss=0.7968, Acc=72.15%]\n",
      "Validation: 100%|███████████████████████████████| 79/79 [00:00<00:00, 91.89it/s]\n"
     ]
    },
    {
     "name": "stdout",
     "output_type": "stream",
     "text": [
      "Train Loss: 0.7941, Train Acc: 72.15%\n",
      "Val Loss: 0.6783, Val Acc: 76.43%\n",
      "New best validation accuracy: 76.43%\n",
      "\n",
      "Epoch 11/20\n",
      "--------------------------------------------------\n"
     ]
    },
    {
     "name": "stderr",
     "output_type": "stream",
     "text": [
      "Training: 100%|█████| 313/313 [00:02<00:00, 125.38it/s, Loss=0.7421, Acc=73.45%]\n",
      "Validation: 100%|██████████████████████████████| 79/79 [00:00<00:00, 102.47it/s]\n"
     ]
    },
    {
     "name": "stdout",
     "output_type": "stream",
     "text": [
      "Train Loss: 0.7634, Train Acc: 73.45%\n",
      "Val Loss: 0.6809, Val Acc: 76.20%\n",
      "\n",
      "Epoch 12/20\n",
      "--------------------------------------------------\n"
     ]
    },
    {
     "name": "stderr",
     "output_type": "stream",
     "text": [
      "Training: 100%|█████| 313/313 [00:02<00:00, 129.14it/s, Loss=0.8062, Acc=74.25%]\n",
      "Validation: 100%|██████████████████████████████| 79/79 [00:00<00:00, 117.00it/s]\n"
     ]
    },
    {
     "name": "stdout",
     "output_type": "stream",
     "text": [
      "Train Loss: 0.7350, Train Acc: 74.25%\n",
      "Val Loss: 0.6318, Val Acc: 77.60%\n",
      "New best validation accuracy: 77.60%\n",
      "\n",
      "Epoch 13/20\n",
      "--------------------------------------------------\n"
     ]
    },
    {
     "name": "stderr",
     "output_type": "stream",
     "text": [
      "Training: 100%|█████| 313/313 [00:02<00:00, 114.21it/s, Loss=0.7088, Acc=74.66%]\n",
      "Validation: 100%|██████████████████████████████| 79/79 [00:00<00:00, 121.41it/s]\n"
     ]
    },
    {
     "name": "stdout",
     "output_type": "stream",
     "text": [
      "Train Loss: 0.7176, Train Acc: 74.66%\n",
      "Val Loss: 0.6216, Val Acc: 77.76%\n",
      "New best validation accuracy: 77.76%\n",
      "\n",
      "Epoch 14/20\n",
      "--------------------------------------------------\n"
     ]
    },
    {
     "name": "stderr",
     "output_type": "stream",
     "text": [
      "Training: 100%|█████| 313/313 [00:02<00:00, 115.45it/s, Loss=0.6231, Acc=75.67%]\n",
      "Validation: 100%|██████████████████████████████| 79/79 [00:00<00:00, 125.30it/s]\n"
     ]
    },
    {
     "name": "stdout",
     "output_type": "stream",
     "text": [
      "Train Loss: 0.6971, Train Acc: 75.67%\n",
      "Val Loss: 0.5996, Val Acc: 79.17%\n",
      "New best validation accuracy: 79.17%\n",
      "\n",
      "Epoch 15/20\n",
      "--------------------------------------------------\n"
     ]
    },
    {
     "name": "stderr",
     "output_type": "stream",
     "text": [
      "Training: 100%|█████| 313/313 [00:02<00:00, 148.66it/s, Loss=0.6052, Acc=76.42%]\n",
      "Validation: 100%|██████████████████████████████| 79/79 [00:00<00:00, 119.99it/s]\n"
     ]
    },
    {
     "name": "stdout",
     "output_type": "stream",
     "text": [
      "Train Loss: 0.6708, Train Acc: 76.42%\n",
      "Val Loss: 0.5767, Val Acc: 79.46%\n",
      "New best validation accuracy: 79.46%\n",
      "\n",
      "Epoch 16/20\n",
      "--------------------------------------------------\n"
     ]
    },
    {
     "name": "stderr",
     "output_type": "stream",
     "text": [
      "Training: 100%|█████| 313/313 [00:02<00:00, 152.89it/s, Loss=0.7264, Acc=76.75%]\n",
      "Validation: 100%|██████████████████████████████| 79/79 [00:00<00:00, 118.54it/s]\n"
     ]
    },
    {
     "name": "stdout",
     "output_type": "stream",
     "text": [
      "Train Loss: 0.6627, Train Acc: 76.75%\n",
      "Val Loss: 0.5735, Val Acc: 79.46%\n",
      "\n",
      "Epoch 17/20\n",
      "--------------------------------------------------\n"
     ]
    },
    {
     "name": "stderr",
     "output_type": "stream",
     "text": [
      "Training: 100%|█████| 313/313 [00:02<00:00, 146.04it/s, Loss=0.7134, Acc=77.34%]\n",
      "Validation: 100%|██████████████████████████████| 79/79 [00:00<00:00, 124.88it/s]\n"
     ]
    },
    {
     "name": "stdout",
     "output_type": "stream",
     "text": [
      "Train Loss: 0.6455, Train Acc: 77.34%\n",
      "Val Loss: 0.5589, Val Acc: 80.47%\n",
      "New best validation accuracy: 80.47%\n",
      "\n",
      "Epoch 18/20\n",
      "--------------------------------------------------\n"
     ]
    },
    {
     "name": "stderr",
     "output_type": "stream",
     "text": [
      "Training: 100%|█████| 313/313 [00:02<00:00, 147.24it/s, Loss=0.6637, Acc=78.13%]\n",
      "Validation: 100%|██████████████████████████████| 79/79 [00:00<00:00, 118.42it/s]\n"
     ]
    },
    {
     "name": "stdout",
     "output_type": "stream",
     "text": [
      "Train Loss: 0.6271, Train Acc: 78.13%\n",
      "Val Loss: 0.6023, Val Acc: 79.08%\n",
      "\n",
      "Epoch 19/20\n",
      "--------------------------------------------------\n"
     ]
    },
    {
     "name": "stderr",
     "output_type": "stream",
     "text": [
      "Training: 100%|█████| 313/313 [00:02<00:00, 150.38it/s, Loss=0.7655, Acc=78.60%]\n",
      "Validation: 100%|██████████████████████████████| 79/79 [00:00<00:00, 111.77it/s]\n"
     ]
    },
    {
     "name": "stdout",
     "output_type": "stream",
     "text": [
      "Train Loss: 0.6158, Train Acc: 78.60%\n",
      "Val Loss: 0.5577, Val Acc: 80.50%\n",
      "New best validation accuracy: 80.50%\n",
      "\n",
      "Epoch 20/20\n",
      "--------------------------------------------------\n"
     ]
    },
    {
     "name": "stderr",
     "output_type": "stream",
     "text": [
      "Training: 100%|█████| 313/313 [00:02<00:00, 144.25it/s, Loss=0.5720, Acc=79.05%]\n",
      "Validation: 100%|██████████████████████████████| 79/79 [00:00<00:00, 155.07it/s]"
     ]
    },
    {
     "name": "stdout",
     "output_type": "stream",
     "text": [
      "Train Loss: 0.6017, Train Acc: 79.05%\n",
      "Val Loss: 0.5552, Val Acc: 80.42%\n",
      "\n",
      "Training completed in 63.14s\n",
      "Best validation accuracy: 80.50%\n",
      "model registered with id: SimpleCNN_20251025_132531\n",
      "new model best val acc: 80.50%\n",
      "new model final train acc: 79.05%\n"
     ]
    },
    {
     "name": "stderr",
     "output_type": "stream",
     "text": [
      "\n"
     ]
    }
   ],
   "source": [
    "#running new experiments with different hyperparameters\n",
    "print(\"running new experiment with different learning rate...\")\n",
    "\n",
    "#creating new config with different lr\n",
    "new_config = Config()\n",
    "new_config.lr = 0.01\n",
    "new_config.epochs = 20\n",
    "print(f\"new config: lr={new_config.lr}, epochs={new_config.epochs}\")\n",
    "\n",
    "#training simple cnn with new config\n",
    "model = create_model('simple_cnn', new_config).to(new_config.device)\n",
    "trainer = Trainer(model, new_config)\n",
    "\n",
    "print(\"training new model...\")\n",
    "history = trainer.fit(train_loader, val_loader)\n",
    "\n",
    "print(f\"new model best val acc: {max(history['val_acc']):.2f}%\")\n",
    "print(f\"new model final train acc: {history['train_acc'][-1]:.2f}%\")\n"
   ]
  },
  {
   "cell_type": "code",
   "execution_count": 5,
   "metadata": {},
   "outputs": [
    {
     "name": "stdout",
     "output_type": "stream",
     "text": [
      "final model comparison:\n",
      "SimpleCNN: 83.50% val acc, 1,147,914 params\n",
      "ImprovedCNN: 84.21% val acc, 1,186,826 params\n",
      "SimpleCNN: 80.50% val acc, 1,147,914 params\n"
     ]
    }
   ],
   "source": [
    "#comapring all models\n",
    "print(\"final model comparison:\")\n",
    "models = registry.list_models()\n",
    "for model_id, info in models.items():\n",
    "    print(f\"{info['model_name']}: {max(info['history']['val_acc']):.2f}% val acc, {info['parameters']:,} params\")"
   ]
  },
  {
   "cell_type": "code",
   "execution_count": null,
   "metadata": {},
   "outputs": [],
   "source": []
  }
 ],
 "metadata": {
  "kernelspec": {
   "display_name": "Python 3 (ipykernel)",
   "language": "python",
   "name": "python3"
  },
  "language_info": {
   "codemirror_mode": {
    "name": "ipython",
    "version": 3
   },
   "file_extension": ".py",
   "mimetype": "text/x-python",
   "name": "python",
   "nbconvert_exporter": "python",
   "pygments_lexer": "ipython3",
   "version": "3.12.3"
  }
 },
 "nbformat": 4,
 "nbformat_minor": 4
}
