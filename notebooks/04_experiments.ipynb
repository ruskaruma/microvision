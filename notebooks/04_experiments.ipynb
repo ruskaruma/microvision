{
 "cells": [
  {
   "cell_type": "markdown",
   "metadata": {},
   "source": [
    "# 04: experiments\n",
    "\n",
    "this notebook runs systematic experiments and compares results from the model registry.\n"
   ]
  },
  {
   "cell_type": "code",
   "execution_count": 18,
   "metadata": {},
   "outputs": [
    {
     "name": "stderr",
     "output_type": "stream",
     "text": [
      "Training: 100%|█████| 313/313 [00:02<00:00, 139.35it/s, Loss=0.3065, Acc=82.33%]\n",
      "Validation: 100%|██████████████████████████████| 79/79 [00:00<00:00, 152.27it/s]\n"
     ]
    },
    {
     "name": "stdout",
     "output_type": "stream",
     "text": [
      "Train Loss: 0.5052, Train Acc: 82.33%\n",
      "Val Loss: 0.4746, Val Acc: 83.49%\n",
      "New best validation accuracy: 83.49%\n",
      "\n",
      "Training completed in 73.46s\n",
      "Best validation accuracy: 83.49%\n",
      "model registered with id: SimpleCNN_20251025_224445\n",
      "✗ Error with simple_cnn: 'ModelRegistry' object has no attribute 'save_model'\n",
      "  Training simple_cnn as fallback...\n",
      "Training on cuda\n",
      "Model parameters: 1,147,914\n",
      "\n",
      "Epoch 1/30\n",
      "--------------------------------------------------\n"
     ]
    },
    {
     "name": "stderr",
     "output_type": "stream",
     "text": [
      "Training: 100%|█████| 313/313 [00:02<00:00, 142.03it/s, Loss=1.5088, Acc=39.77%]\n",
      "Validation: 100%|██████████████████████████████| 79/79 [00:00<00:00, 158.31it/s]\n"
     ]
    },
    {
     "name": "stdout",
     "output_type": "stream",
     "text": [
      "Train Loss: 1.6174, Train Acc: 39.77%\n",
      "Val Loss: 1.3150, Val Acc: 51.89%\n",
      "New best validation accuracy: 51.89%\n",
      "\n",
      "Epoch 2/30\n",
      "--------------------------------------------------\n"
     ]
    },
    {
     "name": "stderr",
     "output_type": "stream",
     "text": [
      "Training: 100%|█████| 313/313 [00:02<00:00, 144.32it/s, Loss=1.2011, Acc=52.06%]\n",
      "Validation: 100%|██████████████████████████████| 79/79 [00:00<00:00, 160.54it/s]\n"
     ]
    },
    {
     "name": "stdout",
     "output_type": "stream",
     "text": [
      "Train Loss: 1.3120, Train Acc: 52.06%\n",
      "Val Loss: 1.1217, Val Acc: 59.18%\n",
      "New best validation accuracy: 59.18%\n",
      "\n",
      "Epoch 3/30\n",
      "--------------------------------------------------\n"
     ]
    },
    {
     "name": "stderr",
     "output_type": "stream",
     "text": [
      "Training: 100%|█████| 313/313 [00:02<00:00, 145.69it/s, Loss=1.0985, Acc=57.94%]\n",
      "Validation: 100%|██████████████████████████████| 79/79 [00:00<00:00, 153.38it/s]\n"
     ]
    },
    {
     "name": "stdout",
     "output_type": "stream",
     "text": [
      "Train Loss: 1.1738, Train Acc: 57.94%\n",
      "Val Loss: 1.0276, Val Acc: 63.51%\n",
      "New best validation accuracy: 63.51%\n",
      "\n",
      "Epoch 4/30\n",
      "--------------------------------------------------\n"
     ]
    },
    {
     "name": "stderr",
     "output_type": "stream",
     "text": [
      "Training: 100%|█████| 313/313 [00:02<00:00, 140.69it/s, Loss=1.0128, Acc=61.97%]\n",
      "Validation: 100%|██████████████████████████████| 79/79 [00:00<00:00, 157.26it/s]\n"
     ]
    },
    {
     "name": "stdout",
     "output_type": "stream",
     "text": [
      "Train Loss: 1.0715, Train Acc: 61.97%\n",
      "Val Loss: 0.9446, Val Acc: 66.45%\n",
      "New best validation accuracy: 66.45%\n",
      "\n",
      "Epoch 5/30\n",
      "--------------------------------------------------\n"
     ]
    },
    {
     "name": "stderr",
     "output_type": "stream",
     "text": [
      "Training: 100%|█████| 313/313 [00:02<00:00, 139.03it/s, Loss=0.8487, Acc=64.43%]\n",
      "Validation: 100%|██████████████████████████████| 79/79 [00:00<00:00, 157.95it/s]\n"
     ]
    },
    {
     "name": "stdout",
     "output_type": "stream",
     "text": [
      "Train Loss: 0.9996, Train Acc: 64.43%\n",
      "Val Loss: 0.8736, Val Acc: 68.60%\n",
      "New best validation accuracy: 68.60%\n",
      "\n",
      "Epoch 6/30\n",
      "--------------------------------------------------\n"
     ]
    },
    {
     "name": "stderr",
     "output_type": "stream",
     "text": [
      "Training: 100%|█████| 313/313 [00:02<00:00, 144.97it/s, Loss=0.7749, Acc=66.69%]\n",
      "Validation: 100%|██████████████████████████████| 79/79 [00:00<00:00, 144.89it/s]\n"
     ]
    },
    {
     "name": "stdout",
     "output_type": "stream",
     "text": [
      "Train Loss: 0.9455, Train Acc: 66.69%\n",
      "Val Loss: 0.8399, Val Acc: 70.22%\n",
      "New best validation accuracy: 70.22%\n",
      "\n",
      "Epoch 7/30\n",
      "--------------------------------------------------\n"
     ]
    },
    {
     "name": "stderr",
     "output_type": "stream",
     "text": [
      "Training: 100%|█████| 313/313 [00:02<00:00, 148.75it/s, Loss=0.6512, Acc=68.05%]\n",
      "Validation: 100%|██████████████████████████████| 79/79 [00:00<00:00, 146.00it/s]\n"
     ]
    },
    {
     "name": "stdout",
     "output_type": "stream",
     "text": [
      "Train Loss: 0.9080, Train Acc: 68.05%\n",
      "Val Loss: 0.7688, Val Acc: 72.42%\n",
      "New best validation accuracy: 72.42%\n",
      "\n",
      "Epoch 8/30\n",
      "--------------------------------------------------\n"
     ]
    },
    {
     "name": "stderr",
     "output_type": "stream",
     "text": [
      "Training:  46%|██▎  | 144/313 [00:01<00:01, 127.57it/s, Loss=1.0084, Acc=69.61%]\n"
     ]
    },
    {
     "ename": "KeyboardInterrupt",
     "evalue": "",
     "output_type": "error",
     "traceback": [
      "\u001b[31m---------------------------------------------------------------------------\u001b[39m",
      "\u001b[31mAttributeError\u001b[39m                            Traceback (most recent call last)",
      "\u001b[36mCell\u001b[39m\u001b[36m \u001b[39m\u001b[32mIn[18]\u001b[39m\u001b[32m, line 48\u001b[39m\n\u001b[32m     47\u001b[39m \u001b[38;5;66;03m# Save to registry\u001b[39;00m\n\u001b[32m---> \u001b[39m\u001b[32m48\u001b[39m \u001b[43mregistry\u001b[49m\u001b[43m.\u001b[49m\u001b[43msave_model\u001b[49m(model, name, {\n\u001b[32m     49\u001b[39m     \u001b[33m'\u001b[39m\u001b[33maccuracy\u001b[39m\u001b[33m'\u001b[39m: \u001b[38;5;28mmax\u001b[39m(history[\u001b[33m'\u001b[39m\u001b[33mval_acc\u001b[39m\u001b[33m'\u001b[39m]),\n\u001b[32m     50\u001b[39m     \u001b[33m'\u001b[39m\u001b[33mepochs\u001b[39m\u001b[33m'\u001b[39m: \u001b[38;5;28mlen\u001b[39m(history[\u001b[33m'\u001b[39m\u001b[33mval_acc\u001b[39m\u001b[33m'\u001b[39m]),\n\u001b[32m     51\u001b[39m     \u001b[33m'\u001b[39m\u001b[33mmodel_type\u001b[39m\u001b[33m'\u001b[39m: name,\n\u001b[32m     52\u001b[39m     \u001b[33m'\u001b[39m\u001b[33mtraining_time\u001b[39m\u001b[33m'\u001b[39m: time.time()\n\u001b[32m     53\u001b[39m })\n\u001b[32m     55\u001b[39m existing_models[name] = model\n",
      "\u001b[31mAttributeError\u001b[39m: 'ModelRegistry' object has no attribute 'save_model'",
      "\nDuring handling of the above exception, another exception occurred:\n",
      "\u001b[31mKeyboardInterrupt\u001b[39m                         Traceback (most recent call last)",
      "\u001b[36mCell\u001b[39m\u001b[36m \u001b[39m\u001b[32mIn[18]\u001b[39m\u001b[32m, line 65\u001b[39m\n\u001b[32m     63\u001b[39m model = create_model(name, config).to(config.device)\n\u001b[32m     64\u001b[39m trainer = Trainer(model, config)\n\u001b[32m---> \u001b[39m\u001b[32m65\u001b[39m history = \u001b[43mtrainer\u001b[49m\u001b[43m.\u001b[49m\u001b[43mfit\u001b[49m\u001b[43m(\u001b[49m\u001b[43mtrain_loader\u001b[49m\u001b[43m,\u001b[49m\u001b[43m \u001b[49m\u001b[43mval_loader\u001b[49m\u001b[43m)\u001b[49m\n\u001b[32m     67\u001b[39m \u001b[38;5;66;03m# Save to registry\u001b[39;00m\n\u001b[32m     68\u001b[39m registry.save_model(model, name, {\n\u001b[32m     69\u001b[39m     \u001b[33m'\u001b[39m\u001b[33maccuracy\u001b[39m\u001b[33m'\u001b[39m: \u001b[38;5;28mmax\u001b[39m(history[\u001b[33m'\u001b[39m\u001b[33mval_acc\u001b[39m\u001b[33m'\u001b[39m]),\n\u001b[32m     70\u001b[39m     \u001b[33m'\u001b[39m\u001b[33mepochs\u001b[39m\u001b[33m'\u001b[39m: \u001b[38;5;28mlen\u001b[39m(history[\u001b[33m'\u001b[39m\u001b[33mval_acc\u001b[39m\u001b[33m'\u001b[39m]),\n\u001b[32m     71\u001b[39m     \u001b[33m'\u001b[39m\u001b[33mmodel_type\u001b[39m\u001b[33m'\u001b[39m: name,\n\u001b[32m     72\u001b[39m     \u001b[33m'\u001b[39m\u001b[33mtraining_time\u001b[39m\u001b[33m'\u001b[39m: time.time()\n\u001b[32m     73\u001b[39m })\n",
      "\u001b[36mFile \u001b[39m\u001b[32m~/Desktop/GITHUB/microvision/src/trainer.py:150\u001b[39m, in \u001b[36mTrainer.fit\u001b[39m\u001b[34m(self, train_loader, val_loader)\u001b[39m\n\u001b[32m    147\u001b[39m \u001b[38;5;28mprint\u001b[39m(\u001b[33m\"\u001b[39m\u001b[33m-\u001b[39m\u001b[33m\"\u001b[39m * \u001b[32m50\u001b[39m)\n\u001b[32m    149\u001b[39m \u001b[38;5;66;03m# Training\u001b[39;00m\n\u001b[32m--> \u001b[39m\u001b[32m150\u001b[39m train_loss, train_acc = \u001b[38;5;28;43mself\u001b[39;49m\u001b[43m.\u001b[49m\u001b[43mtrain_epoch\u001b[49m\u001b[43m(\u001b[49m\u001b[43mtrain_loader\u001b[49m\u001b[43m)\u001b[49m\n\u001b[32m    152\u001b[39m \u001b[38;5;66;03m# Validation\u001b[39;00m\n\u001b[32m    153\u001b[39m val_loss, val_acc = \u001b[38;5;28mself\u001b[39m.validate(val_loader)\n",
      "\u001b[36mFile \u001b[39m\u001b[32m~/Desktop/GITHUB/microvision/src/trainer.py:72\u001b[39m, in \u001b[36mTrainer.train_epoch\u001b[39m\u001b[34m(self, train_loader)\u001b[39m\n\u001b[32m     69\u001b[39m \u001b[38;5;28mself\u001b[39m.optimizer.zero_grad()\n\u001b[32m     71\u001b[39m \u001b[38;5;66;03m# Forward pass\u001b[39;00m\n\u001b[32m---> \u001b[39m\u001b[32m72\u001b[39m output = \u001b[38;5;28;43mself\u001b[39;49m\u001b[43m.\u001b[49m\u001b[43mmodel\u001b[49m\u001b[43m(\u001b[49m\u001b[43mdata\u001b[49m\u001b[43m)\u001b[49m\n\u001b[32m     73\u001b[39m loss = \u001b[38;5;28mself\u001b[39m.criterion(output, target)\n\u001b[32m     75\u001b[39m \u001b[38;5;66;03m# Backward pass\u001b[39;00m\n",
      "\u001b[36mFile \u001b[39m\u001b[32m~/Desktop/GITHUB/microvision/mv-venv/lib/python3.12/site-packages/torch/nn/modules/module.py:1775\u001b[39m, in \u001b[36mModule._wrapped_call_impl\u001b[39m\u001b[34m(self, *args, **kwargs)\u001b[39m\n\u001b[32m   1773\u001b[39m     \u001b[38;5;28;01mreturn\u001b[39;00m \u001b[38;5;28mself\u001b[39m._compiled_call_impl(*args, **kwargs)  \u001b[38;5;66;03m# type: ignore[misc]\u001b[39;00m\n\u001b[32m   1774\u001b[39m \u001b[38;5;28;01melse\u001b[39;00m:\n\u001b[32m-> \u001b[39m\u001b[32m1775\u001b[39m     \u001b[38;5;28;01mreturn\u001b[39;00m \u001b[38;5;28;43mself\u001b[39;49m\u001b[43m.\u001b[49m\u001b[43m_call_impl\u001b[49m\u001b[43m(\u001b[49m\u001b[43m*\u001b[49m\u001b[43margs\u001b[49m\u001b[43m,\u001b[49m\u001b[43m \u001b[49m\u001b[43m*\u001b[49m\u001b[43m*\u001b[49m\u001b[43mkwargs\u001b[49m\u001b[43m)\u001b[49m\n",
      "\u001b[36mFile \u001b[39m\u001b[32m~/Desktop/GITHUB/microvision/mv-venv/lib/python3.12/site-packages/torch/nn/modules/module.py:1786\u001b[39m, in \u001b[36mModule._call_impl\u001b[39m\u001b[34m(self, *args, **kwargs)\u001b[39m\n\u001b[32m   1781\u001b[39m \u001b[38;5;66;03m# If we don't have any hooks, we want to skip the rest of the logic in\u001b[39;00m\n\u001b[32m   1782\u001b[39m \u001b[38;5;66;03m# this function, and just call forward.\u001b[39;00m\n\u001b[32m   1783\u001b[39m \u001b[38;5;28;01mif\u001b[39;00m \u001b[38;5;129;01mnot\u001b[39;00m (\u001b[38;5;28mself\u001b[39m._backward_hooks \u001b[38;5;129;01mor\u001b[39;00m \u001b[38;5;28mself\u001b[39m._backward_pre_hooks \u001b[38;5;129;01mor\u001b[39;00m \u001b[38;5;28mself\u001b[39m._forward_hooks \u001b[38;5;129;01mor\u001b[39;00m \u001b[38;5;28mself\u001b[39m._forward_pre_hooks\n\u001b[32m   1784\u001b[39m         \u001b[38;5;129;01mor\u001b[39;00m _global_backward_pre_hooks \u001b[38;5;129;01mor\u001b[39;00m _global_backward_hooks\n\u001b[32m   1785\u001b[39m         \u001b[38;5;129;01mor\u001b[39;00m _global_forward_hooks \u001b[38;5;129;01mor\u001b[39;00m _global_forward_pre_hooks):\n\u001b[32m-> \u001b[39m\u001b[32m1786\u001b[39m     \u001b[38;5;28;01mreturn\u001b[39;00m \u001b[43mforward_call\u001b[49m\u001b[43m(\u001b[49m\u001b[43m*\u001b[49m\u001b[43margs\u001b[49m\u001b[43m,\u001b[49m\u001b[43m \u001b[49m\u001b[43m*\u001b[49m\u001b[43m*\u001b[49m\u001b[43mkwargs\u001b[49m\u001b[43m)\u001b[49m\n\u001b[32m   1788\u001b[39m result = \u001b[38;5;28;01mNone\u001b[39;00m\n\u001b[32m   1789\u001b[39m called_always_called_hooks = \u001b[38;5;28mset\u001b[39m()\n",
      "\u001b[36mFile \u001b[39m\u001b[32m~/Desktop/GITHUB/microvision/src/models.py:31\u001b[39m, in \u001b[36mSimpleCNN.forward\u001b[39m\u001b[34m(self, x)\u001b[39m\n\u001b[32m     28\u001b[39m x = \u001b[38;5;28mself\u001b[39m.pool(F.relu(\u001b[38;5;28mself\u001b[39m.bn1(\u001b[38;5;28mself\u001b[39m.conv1(x))))\n\u001b[32m     29\u001b[39m x = \u001b[38;5;28mself\u001b[39m.pool(F.relu(\u001b[38;5;28mself\u001b[39m.bn2(\u001b[38;5;28mself\u001b[39m.conv2(x))))\n\u001b[32m---> \u001b[39m\u001b[32m31\u001b[39m x = \u001b[38;5;28mself\u001b[39m.pool(F.relu(\u001b[38;5;28mself\u001b[39m.bn3(\u001b[38;5;28;43mself\u001b[39;49m\u001b[43m.\u001b[49m\u001b[43mconv3\u001b[49m\u001b[43m(\u001b[49m\u001b[43mx\u001b[49m\u001b[43m)\u001b[49m)))\n\u001b[32m     32\u001b[39m x = x.view(-\u001b[32m1\u001b[39m, \u001b[32m128\u001b[39m * \u001b[32m4\u001b[39m * \u001b[32m4\u001b[39m)\n\u001b[32m     33\u001b[39m x = F.relu(\u001b[38;5;28mself\u001b[39m.fc1(x))\n",
      "\u001b[36mFile \u001b[39m\u001b[32m~/Desktop/GITHUB/microvision/mv-venv/lib/python3.12/site-packages/torch/nn/modules/module.py:1775\u001b[39m, in \u001b[36mModule._wrapped_call_impl\u001b[39m\u001b[34m(self, *args, **kwargs)\u001b[39m\n\u001b[32m   1773\u001b[39m     \u001b[38;5;28;01mreturn\u001b[39;00m \u001b[38;5;28mself\u001b[39m._compiled_call_impl(*args, **kwargs)  \u001b[38;5;66;03m# type: ignore[misc]\u001b[39;00m\n\u001b[32m   1774\u001b[39m \u001b[38;5;28;01melse\u001b[39;00m:\n\u001b[32m-> \u001b[39m\u001b[32m1775\u001b[39m     \u001b[38;5;28;01mreturn\u001b[39;00m \u001b[38;5;28;43mself\u001b[39;49m\u001b[43m.\u001b[49m\u001b[43m_call_impl\u001b[49m\u001b[43m(\u001b[49m\u001b[43m*\u001b[49m\u001b[43margs\u001b[49m\u001b[43m,\u001b[49m\u001b[43m \u001b[49m\u001b[43m*\u001b[49m\u001b[43m*\u001b[49m\u001b[43mkwargs\u001b[49m\u001b[43m)\u001b[49m\n",
      "\u001b[36mFile \u001b[39m\u001b[32m~/Desktop/GITHUB/microvision/mv-venv/lib/python3.12/site-packages/torch/nn/modules/module.py:1786\u001b[39m, in \u001b[36mModule._call_impl\u001b[39m\u001b[34m(self, *args, **kwargs)\u001b[39m\n\u001b[32m   1781\u001b[39m \u001b[38;5;66;03m# If we don't have any hooks, we want to skip the rest of the logic in\u001b[39;00m\n\u001b[32m   1782\u001b[39m \u001b[38;5;66;03m# this function, and just call forward.\u001b[39;00m\n\u001b[32m   1783\u001b[39m \u001b[38;5;28;01mif\u001b[39;00m \u001b[38;5;129;01mnot\u001b[39;00m (\u001b[38;5;28mself\u001b[39m._backward_hooks \u001b[38;5;129;01mor\u001b[39;00m \u001b[38;5;28mself\u001b[39m._backward_pre_hooks \u001b[38;5;129;01mor\u001b[39;00m \u001b[38;5;28mself\u001b[39m._forward_hooks \u001b[38;5;129;01mor\u001b[39;00m \u001b[38;5;28mself\u001b[39m._forward_pre_hooks\n\u001b[32m   1784\u001b[39m         \u001b[38;5;129;01mor\u001b[39;00m _global_backward_pre_hooks \u001b[38;5;129;01mor\u001b[39;00m _global_backward_hooks\n\u001b[32m   1785\u001b[39m         \u001b[38;5;129;01mor\u001b[39;00m _global_forward_hooks \u001b[38;5;129;01mor\u001b[39;00m _global_forward_pre_hooks):\n\u001b[32m-> \u001b[39m\u001b[32m1786\u001b[39m     \u001b[38;5;28;01mreturn\u001b[39;00m \u001b[43mforward_call\u001b[49m\u001b[43m(\u001b[49m\u001b[43m*\u001b[49m\u001b[43margs\u001b[49m\u001b[43m,\u001b[49m\u001b[43m \u001b[49m\u001b[43m*\u001b[49m\u001b[43m*\u001b[49m\u001b[43mkwargs\u001b[49m\u001b[43m)\u001b[49m\n\u001b[32m   1788\u001b[39m result = \u001b[38;5;28;01mNone\u001b[39;00m\n\u001b[32m   1789\u001b[39m called_always_called_hooks = \u001b[38;5;28mset\u001b[39m()\n",
      "\u001b[36mFile \u001b[39m\u001b[32m~/Desktop/GITHUB/microvision/mv-venv/lib/python3.12/site-packages/torch/nn/modules/conv.py:548\u001b[39m, in \u001b[36mConv2d.forward\u001b[39m\u001b[34m(self, input)\u001b[39m\n\u001b[32m    547\u001b[39m \u001b[38;5;28;01mdef\u001b[39;00m\u001b[38;5;250m \u001b[39m\u001b[34mforward\u001b[39m(\u001b[38;5;28mself\u001b[39m, \u001b[38;5;28minput\u001b[39m: Tensor) -> Tensor:\n\u001b[32m--> \u001b[39m\u001b[32m548\u001b[39m     \u001b[38;5;28;01mreturn\u001b[39;00m \u001b[38;5;28;43mself\u001b[39;49m\u001b[43m.\u001b[49m\u001b[43m_conv_forward\u001b[49m\u001b[43m(\u001b[49m\u001b[38;5;28;43minput\u001b[39;49m\u001b[43m,\u001b[49m\u001b[43m \u001b[49m\u001b[38;5;28;43mself\u001b[39;49m\u001b[43m.\u001b[49m\u001b[43mweight\u001b[49m\u001b[43m,\u001b[49m\u001b[43m \u001b[49m\u001b[38;5;28;43mself\u001b[39;49m\u001b[43m.\u001b[49m\u001b[43mbias\u001b[49m\u001b[43m)\u001b[49m\n",
      "\u001b[36mFile \u001b[39m\u001b[32m~/Desktop/GITHUB/microvision/mv-venv/lib/python3.12/site-packages/torch/nn/modules/conv.py:543\u001b[39m, in \u001b[36mConv2d._conv_forward\u001b[39m\u001b[34m(self, input, weight, bias)\u001b[39m\n\u001b[32m    531\u001b[39m \u001b[38;5;28;01mif\u001b[39;00m \u001b[38;5;28mself\u001b[39m.padding_mode != \u001b[33m\"\u001b[39m\u001b[33mzeros\u001b[39m\u001b[33m\"\u001b[39m:\n\u001b[32m    532\u001b[39m     \u001b[38;5;28;01mreturn\u001b[39;00m F.conv2d(\n\u001b[32m    533\u001b[39m         F.pad(\n\u001b[32m    534\u001b[39m             \u001b[38;5;28minput\u001b[39m, \u001b[38;5;28mself\u001b[39m._reversed_padding_repeated_twice, mode=\u001b[38;5;28mself\u001b[39m.padding_mode\n\u001b[32m   (...)\u001b[39m\u001b[32m    541\u001b[39m         \u001b[38;5;28mself\u001b[39m.groups,\n\u001b[32m    542\u001b[39m     )\n\u001b[32m--> \u001b[39m\u001b[32m543\u001b[39m \u001b[38;5;28;01mreturn\u001b[39;00m \u001b[43mF\u001b[49m\u001b[43m.\u001b[49m\u001b[43mconv2d\u001b[49m\u001b[43m(\u001b[49m\n\u001b[32m    544\u001b[39m \u001b[43m    \u001b[49m\u001b[38;5;28;43minput\u001b[39;49m\u001b[43m,\u001b[49m\u001b[43m \u001b[49m\u001b[43mweight\u001b[49m\u001b[43m,\u001b[49m\u001b[43m \u001b[49m\u001b[43mbias\u001b[49m\u001b[43m,\u001b[49m\u001b[43m \u001b[49m\u001b[38;5;28;43mself\u001b[39;49m\u001b[43m.\u001b[49m\u001b[43mstride\u001b[49m\u001b[43m,\u001b[49m\u001b[43m \u001b[49m\u001b[38;5;28;43mself\u001b[39;49m\u001b[43m.\u001b[49m\u001b[43mpadding\u001b[49m\u001b[43m,\u001b[49m\u001b[43m \u001b[49m\u001b[38;5;28;43mself\u001b[39;49m\u001b[43m.\u001b[49m\u001b[43mdilation\u001b[49m\u001b[43m,\u001b[49m\u001b[43m \u001b[49m\u001b[38;5;28;43mself\u001b[39;49m\u001b[43m.\u001b[49m\u001b[43mgroups\u001b[49m\n\u001b[32m    545\u001b[39m \u001b[43m\u001b[49m\u001b[43m)\u001b[49m\n",
      "\u001b[31mKeyboardInterrupt\u001b[39m: "
     ]
    }
   ],
   "source": []
  },
  {
   "cell_type": "markdown",
   "metadata": {},
   "source": [
    "## Hyperparameter optimization"
   ]
  },
  {
   "cell_type": "code",
   "execution_count": 12,
   "metadata": {},
   "outputs": [
    {
     "name": "stdout",
     "output_type": "stream",
     "text": [
      "Testing: lr=0.001, batch_size=32\n",
      "Training on cuda\n",
      "Model parameters: 1,147,914\n",
      "\n",
      "Epoch 1/5\n",
      "--------------------------------------------------\n"
     ]
    },
    {
     "name": "stderr",
     "output_type": "stream",
     "text": [
      "Training: 100%|███| 1250/1250 [00:03<00:00, 371.03it/s, Loss=1.6584, Acc=31.11%]\n",
      "Validation: 100%|████████████████████████████| 313/313 [00:00<00:00, 522.68it/s]\n"
     ]
    },
    {
     "name": "stdout",
     "output_type": "stream",
     "text": [
      "Train Loss: 1.8519, Train Acc: 31.11%\n",
      "Val Loss: 1.5148, Val Acc: 42.01%\n",
      "New best validation accuracy: 42.01%\n",
      "\n",
      "Epoch 2/5\n",
      "--------------------------------------------------\n"
     ]
    },
    {
     "name": "stderr",
     "output_type": "stream",
     "text": [
      "Training: 100%|███| 1250/1250 [00:03<00:00, 372.50it/s, Loss=1.3173, Acc=42.98%]\n",
      "Validation: 100%|████████████████████████████| 313/313 [00:00<00:00, 534.85it/s]\n"
     ]
    },
    {
     "name": "stdout",
     "output_type": "stream",
     "text": [
      "Train Loss: 1.5597, Train Acc: 42.98%\n",
      "Val Loss: 1.2311, Val Acc: 56.14%\n",
      "New best validation accuracy: 56.14%\n",
      "\n",
      "Epoch 3/5\n",
      "--------------------------------------------------\n"
     ]
    },
    {
     "name": "stderr",
     "output_type": "stream",
     "text": [
      "Training: 100%|███| 1250/1250 [00:03<00:00, 363.73it/s, Loss=1.1210, Acc=53.49%]\n",
      "Validation: 100%|████████████████████████████| 313/313 [00:00<00:00, 531.92it/s]\n"
     ]
    },
    {
     "name": "stdout",
     "output_type": "stream",
     "text": [
      "Train Loss: 1.2996, Train Acc: 53.49%\n",
      "Val Loss: 1.0955, Val Acc: 59.91%\n",
      "New best validation accuracy: 59.91%\n",
      "\n",
      "Epoch 4/5\n",
      "--------------------------------------------------\n"
     ]
    },
    {
     "name": "stderr",
     "output_type": "stream",
     "text": [
      "Training: 100%|███| 1250/1250 [00:03<00:00, 358.03it/s, Loss=1.3344, Acc=60.39%]\n",
      "Validation: 100%|████████████████████████████| 313/313 [00:00<00:00, 514.00it/s]\n"
     ]
    },
    {
     "name": "stdout",
     "output_type": "stream",
     "text": [
      "Train Loss: 1.1241, Train Acc: 60.39%\n",
      "Val Loss: 0.8607, Val Acc: 69.55%\n",
      "New best validation accuracy: 69.55%\n",
      "\n",
      "Epoch 5/5\n",
      "--------------------------------------------------\n"
     ]
    },
    {
     "name": "stderr",
     "output_type": "stream",
     "text": [
      "Training: 100%|███| 1250/1250 [00:03<00:00, 355.57it/s, Loss=0.9482, Acc=64.21%]\n",
      "Validation: 100%|████████████████████████████| 313/313 [00:00<00:00, 509.42it/s]\n"
     ]
    },
    {
     "name": "stdout",
     "output_type": "stream",
     "text": [
      "Train Loss: 1.0220, Train Acc: 64.21%\n",
      "Val Loss: 0.7908, Val Acc: 72.45%\n",
      "New best validation accuracy: 72.45%\n",
      "\n",
      "Training completed in 20.34s\n",
      "Best validation accuracy: 72.45%\n",
      "model registered with id: SimpleCNN_20251025_221724\n",
      "Best val acc: 72.4500, Time: 20.35s\n",
      "Testing: lr=0.001, batch_size=64\n",
      "Training on cuda\n",
      "Model parameters: 1,147,914\n",
      "\n",
      "Epoch 1/5\n",
      "--------------------------------------------------\n"
     ]
    },
    {
     "name": "stderr",
     "output_type": "stream",
     "text": [
      "Training: 100%|█████| 625/625 [00:02<00:00, 255.81it/s, Loss=1.1691, Acc=38.37%]\n",
      "Validation: 100%|████████████████████████████| 157/157 [00:00<00:00, 234.81it/s]\n"
     ]
    },
    {
     "name": "stdout",
     "output_type": "stream",
     "text": [
      "Train Loss: 1.6666, Train Acc: 38.37%\n",
      "Val Loss: 1.3514, Val Acc: 50.81%\n",
      "New best validation accuracy: 50.81%\n",
      "\n",
      "Epoch 2/5\n",
      "--------------------------------------------------\n"
     ]
    },
    {
     "name": "stderr",
     "output_type": "stream",
     "text": [
      "Training: 100%|█████| 625/625 [00:02<00:00, 250.67it/s, Loss=1.4679, Acc=49.75%]\n",
      "Validation: 100%|████████████████████████████| 157/157 [00:00<00:00, 279.99it/s]\n"
     ]
    },
    {
     "name": "stdout",
     "output_type": "stream",
     "text": [
      "Train Loss: 1.3869, Train Acc: 49.75%\n",
      "Val Loss: 1.1636, Val Acc: 58.71%\n",
      "New best validation accuracy: 58.71%\n",
      "\n",
      "Epoch 3/5\n",
      "--------------------------------------------------\n"
     ]
    },
    {
     "name": "stderr",
     "output_type": "stream",
     "text": [
      "Training: 100%|█████| 625/625 [00:02<00:00, 250.72it/s, Loss=1.3981, Acc=56.51%]\n",
      "Validation: 100%|████████████████████████████| 157/157 [00:00<00:00, 268.73it/s]\n"
     ]
    },
    {
     "name": "stdout",
     "output_type": "stream",
     "text": [
      "Train Loss: 1.2231, Train Acc: 56.51%\n",
      "Val Loss: 1.0144, Val Acc: 63.91%\n",
      "New best validation accuracy: 63.91%\n",
      "\n",
      "Epoch 4/5\n",
      "--------------------------------------------------\n"
     ]
    },
    {
     "name": "stderr",
     "output_type": "stream",
     "text": [
      "Training: 100%|█████| 625/625 [00:02<00:00, 249.21it/s, Loss=1.2956, Acc=60.96%]\n",
      "Validation: 100%|████████████████████████████| 157/157 [00:00<00:00, 296.20it/s]\n"
     ]
    },
    {
     "name": "stdout",
     "output_type": "stream",
     "text": [
      "Train Loss: 1.0986, Train Acc: 60.96%\n",
      "Val Loss: 0.9163, Val Acc: 67.43%\n",
      "New best validation accuracy: 67.43%\n",
      "\n",
      "Epoch 5/5\n",
      "--------------------------------------------------\n"
     ]
    },
    {
     "name": "stderr",
     "output_type": "stream",
     "text": [
      "Training: 100%|█████| 625/625 [00:02<00:00, 255.65it/s, Loss=1.0625, Acc=64.49%]\n",
      "Validation: 100%|████████████████████████████| 157/157 [00:00<00:00, 308.03it/s]\n"
     ]
    },
    {
     "name": "stdout",
     "output_type": "stream",
     "text": [
      "Train Loss: 1.0103, Train Acc: 64.49%\n",
      "Val Loss: 0.8504, Val Acc: 69.48%\n",
      "New best validation accuracy: 69.48%\n",
      "\n",
      "Training completed in 15.40s\n",
      "Best validation accuracy: 69.48%\n",
      "model registered with id: SimpleCNN_20251025_221741\n",
      "Best val acc: 69.4800, Time: 15.41s\n",
      "Testing: lr=0.001, batch_size=128\n",
      "Training on cuda\n",
      "Model parameters: 1,147,914\n",
      "\n",
      "Epoch 1/5\n",
      "--------------------------------------------------\n"
     ]
    },
    {
     "name": "stderr",
     "output_type": "stream",
     "text": [
      "Training: 100%|█████| 313/313 [00:02<00:00, 155.96it/s, Loss=1.4932, Acc=38.94%]\n",
      "Validation: 100%|██████████████████████████████| 79/79 [00:00<00:00, 159.60it/s]\n"
     ]
    },
    {
     "name": "stdout",
     "output_type": "stream",
     "text": [
      "Train Loss: 1.6455, Train Acc: 38.94%\n",
      "Val Loss: 1.3262, Val Acc: 51.60%\n",
      "New best validation accuracy: 51.60%\n",
      "\n",
      "Epoch 2/5\n",
      "--------------------------------------------------\n"
     ]
    },
    {
     "name": "stderr",
     "output_type": "stream",
     "text": [
      "Training: 100%|█████| 313/313 [00:01<00:00, 165.71it/s, Loss=1.3570, Acc=51.26%]\n",
      "Validation: 100%|██████████████████████████████| 79/79 [00:00<00:00, 166.26it/s]\n"
     ]
    },
    {
     "name": "stdout",
     "output_type": "stream",
     "text": [
      "Train Loss: 1.3367, Train Acc: 51.26%\n",
      "Val Loss: 1.1063, Val Acc: 60.16%\n",
      "New best validation accuracy: 60.16%\n",
      "\n",
      "Epoch 3/5\n",
      "--------------------------------------------------\n"
     ]
    },
    {
     "name": "stderr",
     "output_type": "stream",
     "text": [
      "Training: 100%|█████| 313/313 [00:01<00:00, 169.01it/s, Loss=1.2917, Acc=57.21%]\n",
      "Validation: 100%|██████████████████████████████| 79/79 [00:00<00:00, 151.18it/s]\n"
     ]
    },
    {
     "name": "stdout",
     "output_type": "stream",
     "text": [
      "Train Loss: 1.1908, Train Acc: 57.21%\n",
      "Val Loss: 0.9977, Val Acc: 64.58%\n",
      "New best validation accuracy: 64.58%\n",
      "\n",
      "Epoch 4/5\n",
      "--------------------------------------------------\n"
     ]
    },
    {
     "name": "stderr",
     "output_type": "stream",
     "text": [
      "Training: 100%|█████| 313/313 [00:01<00:00, 165.13it/s, Loss=1.2070, Acc=61.58%]\n",
      "Validation: 100%|██████████████████████████████| 79/79 [00:00<00:00, 143.64it/s]\n"
     ]
    },
    {
     "name": "stdout",
     "output_type": "stream",
     "text": [
      "Train Loss: 1.0800, Train Acc: 61.58%\n",
      "Val Loss: 0.9167, Val Acc: 66.41%\n",
      "New best validation accuracy: 66.41%\n",
      "\n",
      "Epoch 5/5\n",
      "--------------------------------------------------\n"
     ]
    },
    {
     "name": "stderr",
     "output_type": "stream",
     "text": [
      "Training: 100%|█████| 313/313 [00:01<00:00, 157.02it/s, Loss=1.0661, Acc=64.32%]\n",
      "Validation: 100%|██████████████████████████████| 79/79 [00:00<00:00, 172.65it/s]\n"
     ]
    },
    {
     "name": "stdout",
     "output_type": "stream",
     "text": [
      "Train Loss: 1.0038, Train Acc: 64.32%\n",
      "Val Loss: 0.9238, Val Acc: 67.64%\n",
      "New best validation accuracy: 67.64%\n",
      "\n",
      "Training completed in 12.30s\n",
      "Best validation accuracy: 67.64%\n",
      "model registered with id: SimpleCNN_20251025_221755\n",
      "Best val acc: 67.6400, Time: 12.31s\n",
      "Testing: lr=0.01, batch_size=32\n",
      "Training on cuda\n",
      "Model parameters: 1,147,914\n",
      "\n",
      "Epoch 1/5\n",
      "--------------------------------------------------\n"
     ]
    },
    {
     "name": "stderr",
     "output_type": "stream",
     "text": [
      "Training: 100%|███| 1250/1250 [00:03<00:00, 318.60it/s, Loss=1.4133, Acc=31.96%]\n",
      "Validation: 100%|████████████████████████████| 313/313 [00:00<00:00, 459.90it/s]\n"
     ]
    },
    {
     "name": "stdout",
     "output_type": "stream",
     "text": [
      "Train Loss: 1.8336, Train Acc: 31.96%\n",
      "Val Loss: 1.5164, Val Acc: 43.66%\n",
      "New best validation accuracy: 43.66%\n",
      "\n",
      "Epoch 2/5\n",
      "--------------------------------------------------\n"
     ]
    },
    {
     "name": "stderr",
     "output_type": "stream",
     "text": [
      "Training: 100%|███| 1250/1250 [00:04<00:00, 311.86it/s, Loss=1.4302, Acc=43.72%]\n",
      "Validation: 100%|████████████████████████████| 313/313 [00:00<00:00, 434.37it/s]\n"
     ]
    },
    {
     "name": "stdout",
     "output_type": "stream",
     "text": [
      "Train Loss: 1.5416, Train Acc: 43.72%\n",
      "Val Loss: 1.2361, Val Acc: 54.04%\n",
      "New best validation accuracy: 54.04%\n",
      "\n",
      "Epoch 3/5\n",
      "--------------------------------------------------\n"
     ]
    },
    {
     "name": "stderr",
     "output_type": "stream",
     "text": [
      "Training: 100%|███| 1250/1250 [00:04<00:00, 276.61it/s, Loss=0.9447, Acc=54.20%]\n",
      "Validation: 100%|████████████████████████████| 313/313 [00:00<00:00, 421.73it/s]\n"
     ]
    },
    {
     "name": "stdout",
     "output_type": "stream",
     "text": [
      "Train Loss: 1.2855, Train Acc: 54.20%\n",
      "Val Loss: 1.0369, Val Acc: 62.36%\n",
      "New best validation accuracy: 62.36%\n",
      "\n",
      "Epoch 4/5\n",
      "--------------------------------------------------\n"
     ]
    },
    {
     "name": "stderr",
     "output_type": "stream",
     "text": [
      "Training: 100%|███| 1250/1250 [00:04<00:00, 258.60it/s, Loss=0.9558, Acc=60.46%]\n",
      "Validation: 100%|████████████████████████████| 313/313 [00:00<00:00, 427.69it/s]\n"
     ]
    },
    {
     "name": "stdout",
     "output_type": "stream",
     "text": [
      "Train Loss: 1.1149, Train Acc: 60.46%\n",
      "Val Loss: 0.8956, Val Acc: 68.99%\n",
      "New best validation accuracy: 68.99%\n",
      "\n",
      "Epoch 5/5\n",
      "--------------------------------------------------\n"
     ]
    },
    {
     "name": "stderr",
     "output_type": "stream",
     "text": [
      "Training: 100%|███| 1250/1250 [00:05<00:00, 248.25it/s, Loss=0.5210, Acc=64.58%]\n",
      "Validation: 100%|████████████████████████████| 313/313 [00:00<00:00, 362.40it/s]\n"
     ]
    },
    {
     "name": "stdout",
     "output_type": "stream",
     "text": [
      "Train Loss: 1.0157, Train Acc: 64.58%\n",
      "Val Loss: 0.8452, Val Acc: 70.74%\n",
      "New best validation accuracy: 70.74%\n",
      "\n",
      "Training completed in 26.22s\n",
      "Best validation accuracy: 70.74%\n",
      "model registered with id: SimpleCNN_20251025_221823\n",
      "Best val acc: 70.7400, Time: 26.24s\n",
      "Testing: lr=0.01, batch_size=64\n",
      "Training on cuda\n",
      "Model parameters: 1,147,914\n",
      "\n",
      "Epoch 1/5\n",
      "--------------------------------------------------\n"
     ]
    },
    {
     "name": "stderr",
     "output_type": "stream",
     "text": [
      "Training: 100%|█████| 625/625 [00:03<00:00, 192.31it/s, Loss=1.5177, Acc=37.97%]\n",
      "Validation: 100%|████████████████████████████| 157/157 [00:00<00:00, 225.01it/s]\n"
     ]
    },
    {
     "name": "stdout",
     "output_type": "stream",
     "text": [
      "Train Loss: 1.6767, Train Acc: 37.97%\n",
      "Val Loss: 1.3548, Val Acc: 50.03%\n",
      "New best validation accuracy: 50.03%\n",
      "\n",
      "Epoch 2/5\n",
      "--------------------------------------------------\n"
     ]
    },
    {
     "name": "stderr",
     "output_type": "stream",
     "text": [
      "Training: 100%|█████| 625/625 [00:03<00:00, 189.16it/s, Loss=1.1196, Acc=49.33%]\n",
      "Validation: 100%|████████████████████████████| 157/157 [00:00<00:00, 185.20it/s]\n"
     ]
    },
    {
     "name": "stdout",
     "output_type": "stream",
     "text": [
      "Train Loss: 1.3934, Train Acc: 49.33%\n",
      "Val Loss: 1.2473, Val Acc: 56.22%\n",
      "New best validation accuracy: 56.22%\n",
      "\n",
      "Epoch 3/5\n",
      "--------------------------------------------------\n"
     ]
    },
    {
     "name": "stderr",
     "output_type": "stream",
     "text": [
      "Training: 100%|█████| 625/625 [00:03<00:00, 193.87it/s, Loss=1.3052, Acc=56.11%]\n",
      "Validation: 100%|████████████████████████████| 157/157 [00:00<00:00, 264.83it/s]\n"
     ]
    },
    {
     "name": "stdout",
     "output_type": "stream",
     "text": [
      "Train Loss: 1.2221, Train Acc: 56.11%\n",
      "Val Loss: 0.9963, Val Acc: 64.07%\n",
      "New best validation accuracy: 64.07%\n",
      "\n",
      "Epoch 4/5\n",
      "--------------------------------------------------\n"
     ]
    },
    {
     "name": "stderr",
     "output_type": "stream",
     "text": [
      "Training: 100%|█████| 625/625 [00:02<00:00, 224.21it/s, Loss=1.0253, Acc=60.51%]\n",
      "Validation: 100%|████████████████████████████| 157/157 [00:00<00:00, 259.16it/s]\n"
     ]
    },
    {
     "name": "stdout",
     "output_type": "stream",
     "text": [
      "Train Loss: 1.1139, Train Acc: 60.51%\n",
      "Val Loss: 0.8799, Val Acc: 68.68%\n",
      "New best validation accuracy: 68.68%\n",
      "\n",
      "Epoch 5/5\n",
      "--------------------------------------------------\n"
     ]
    },
    {
     "name": "stderr",
     "output_type": "stream",
     "text": [
      "Training: 100%|█████| 625/625 [00:02<00:00, 219.34it/s, Loss=1.1314, Acc=63.89%]\n",
      "Validation: 100%|████████████████████████████| 157/157 [00:00<00:00, 244.66it/s]\n"
     ]
    },
    {
     "name": "stdout",
     "output_type": "stream",
     "text": [
      "Train Loss: 1.0196, Train Acc: 63.89%\n",
      "Val Loss: 0.8492, Val Acc: 70.12%\n",
      "New best validation accuracy: 70.12%\n",
      "\n",
      "Training completed in 18.99s\n",
      "Best validation accuracy: 70.12%\n",
      "model registered with id: SimpleCNN_20251025_221844\n",
      "Best val acc: 70.1200, Time: 19.00s\n",
      "Testing: lr=0.01, batch_size=128\n",
      "Training on cuda\n",
      "Model parameters: 1,147,914\n",
      "\n",
      "Epoch 1/5\n",
      "--------------------------------------------------\n"
     ]
    },
    {
     "name": "stderr",
     "output_type": "stream",
     "text": [
      "Training: 100%|█████| 313/313 [00:02<00:00, 135.99it/s, Loss=1.3452, Acc=39.81%]\n",
      "Validation: 100%|██████████████████████████████| 79/79 [00:00<00:00, 146.92it/s]\n"
     ]
    },
    {
     "name": "stdout",
     "output_type": "stream",
     "text": [
      "Train Loss: 1.6196, Train Acc: 39.81%\n",
      "Val Loss: 1.3986, Val Acc: 47.35%\n",
      "New best validation accuracy: 47.35%\n",
      "\n",
      "Epoch 2/5\n",
      "--------------------------------------------------\n"
     ]
    },
    {
     "name": "stderr",
     "output_type": "stream",
     "text": [
      "Training: 100%|█████| 313/313 [00:02<00:00, 135.52it/s, Loss=1.1024, Acc=52.26%]\n",
      "Validation: 100%|██████████████████████████████| 79/79 [00:00<00:00, 149.90it/s]\n"
     ]
    },
    {
     "name": "stdout",
     "output_type": "stream",
     "text": [
      "Train Loss: 1.3101, Train Acc: 52.26%\n",
      "Val Loss: 1.1926, Val Acc: 58.52%\n",
      "New best validation accuracy: 58.52%\n",
      "\n",
      "Epoch 3/5\n",
      "--------------------------------------------------\n"
     ]
    },
    {
     "name": "stderr",
     "output_type": "stream",
     "text": [
      "Training: 100%|█████| 313/313 [00:02<00:00, 137.11it/s, Loss=0.7093, Acc=58.62%]\n",
      "Validation: 100%|██████████████████████████████| 79/79 [00:00<00:00, 152.97it/s]\n"
     ]
    },
    {
     "name": "stdout",
     "output_type": "stream",
     "text": [
      "Train Loss: 1.1558, Train Acc: 58.62%\n",
      "Val Loss: 1.0773, Val Acc: 62.15%\n",
      "New best validation accuracy: 62.15%\n",
      "\n",
      "Epoch 4/5\n",
      "--------------------------------------------------\n"
     ]
    },
    {
     "name": "stderr",
     "output_type": "stream",
     "text": [
      "Training: 100%|█████| 313/313 [00:02<00:00, 139.74it/s, Loss=1.0493, Acc=62.34%]\n",
      "Validation: 100%|██████████████████████████████| 79/79 [00:00<00:00, 130.34it/s]\n"
     ]
    },
    {
     "name": "stdout",
     "output_type": "stream",
     "text": [
      "Train Loss: 1.0584, Train Acc: 62.34%\n",
      "Val Loss: 0.9858, Val Acc: 65.54%\n",
      "New best validation accuracy: 65.54%\n",
      "\n",
      "Epoch 5/5\n",
      "--------------------------------------------------\n"
     ]
    },
    {
     "name": "stderr",
     "output_type": "stream",
     "text": [
      "Training: 100%|█████| 313/313 [00:02<00:00, 115.50it/s, Loss=0.8499, Acc=65.10%]\n",
      "Validation: 100%|██████████████████████████████| 79/79 [00:00<00:00, 146.54it/s]\n"
     ]
    },
    {
     "name": "stdout",
     "output_type": "stream",
     "text": [
      "Train Loss: 0.9898, Train Acc: 65.10%\n",
      "Val Loss: 0.8676, Val Acc: 69.16%\n",
      "New best validation accuracy: 69.16%\n",
      "\n",
      "Training completed in 14.77s\n",
      "Best validation accuracy: 69.16%\n",
      "model registered with id: SimpleCNN_20251025_221901\n",
      "Best val acc: 69.1600, Time: 14.78s\n",
      "Hyperparameter optimization completed: 6 configurations tested\n"
     ]
    }
   ],
   "source": [
    "def hyperparameter_optimization():\n",
    "    learning_rates = [0.001, 0.01]\n",
    "    batch_sizes = [32, 64, 128]\n",
    "    results = []\n",
    "    for lr, bs in product(learning_rates, batch_sizes):\n",
    "        print(f\"Testing: lr={lr}, batch_size={bs}\")\n",
    "        temp_config = Config()\n",
    "        temp_config.learning_rate = lr\n",
    "        temp_config.batch_size = bs\n",
    "        temp_config.epochs = 5\n",
    "        \n",
    "        temp_train_loader, temp_val_loader, _ = get_cifar10_loaders(temp_config)\n",
    "        \n",
    "        model = create_model('simple_cnn', temp_config).to(temp_config.device)\n",
    "        trainer = Trainer(model, temp_config)\n",
    "        \n",
    "        start_time = time.time()\n",
    "        history = trainer.fit(temp_train_loader, temp_val_loader)\n",
    "        training_time = time.time() - start_time\n",
    "        \n",
    "        best_val_acc = max(history['val_acc'])\n",
    "        results.append({\n",
    "            'learning_rate': lr,\n",
    "            'batch_size': bs,\n",
    "            'best_val_acc': best_val_acc,\n",
    "            'training_time': training_time\n",
    "        })\n",
    "        print(f\"Best val acc: {best_val_acc:.4f}, Time: {training_time:.2f}s\") \n",
    "    return results\n",
    "hyperparameter_results = hyperparameter_optimization()\n",
    "print(f\"Hyperparameter optimization completed: {len(hyperparameter_results)} configurations tested\")"
   ]
  },
  {
   "cell_type": "markdown",
   "metadata": {},
   "source": [
    "## Visualization"
   ]
  },
  {
   "cell_type": "code",
   "execution_count": 13,
   "metadata": {},
   "outputs": [
    {
     "name": "stdout",
     "output_type": "stream",
     "text": [
      "Best hyperparameters: LR=0.001, BS=32.0\n",
      "Best validation accuracy: 72.4500%\n"
     ]
    },
    {
     "data": {
      "image/png": "[encoded data removed]",
      "text/plain": [
       "<Figure size 1200x500 with 2 Axes>"
      ]
     },
     "metadata": {},
     "output_type": "display_data"
    }
   ],
   "source": [
    "import pandas as pd\n",
    "df_hp = pd.DataFrame(hyperparameter_results)\n",
    "best_hp = df_hp.loc[df_hp['best_val_acc'].idxmax()]\n",
    "print(f\"Best hyperparameters: LR={best_hp['learning_rate']}, BS={best_hp['batch_size']}\")\n",
    "print(f\"Best validation accuracy: {best_hp['best_val_acc']:.4f}%\")\n",
    "fig, axes = plt.subplots(1, 2, figsize=(12, 5))\n",
    "sns.scatterplot(data=df_hp, x='learning_rate', y='best_val_acc', size='batch_size', ax=axes[0])\n",
    "axes[0].set_title('Validation Accuracy vs Learning Rate')\n",
    "axes[0].set_xscale('log')\n",
    "sns.scatterplot(data=df_hp, x='batch_size', y='best_val_acc', hue='learning_rate', ax=axes[1])\n",
    "axes[1].set_title('Validation Accuracy vs Batch Size')\n",
    "plt.tight_layout()\n",
    "plt.show()"
   ]
  },
  {
   "cell_type": "markdown",
   "metadata": {},
   "source": [
    "## Ensemble Learning "
   ]
  },
  {
   "cell_type": "code",
   "execution_count": 14,
   "metadata": {},
   "outputs": [],
   "source": [
    "class OptimizedEnsemble(nn.Module):\n",
    "    def __init__(self, models, weights=None):\n",
    "        super(OptimizedEnsemble, self).__init__()\n",
    "        self.models = nn.ModuleList(models)\n",
    "        if weights is None:\n",
    "            weights = [1.0] * len(models)\n",
    "        self.weights = torch.tensor(weights, dtype=torch.float32)\n",
    "        self.weights = self.weights / self.weights.sum()\n",
    "    def forward(self, x):\n",
    "        outputs = []\n",
    "        for model in self.models:\n",
    "            outputs.append(model(x))\n",
    "        weighted_outputs = []\n",
    "        for i, output in enumerate(outputs):\n",
    "            weighted_outputs.append(output * self.weights[i])\n",
    "        return torch.stack(weighted_outputs, dim=0).sum(dim=0)\n",
    "def evaluate_model(model, test_loader):\n",
    "    model.eval()\n",
    "    correct = 0\n",
    "    total = 0\n",
    "    with torch.no_grad():\n",
    "        for images, labels in test_loader:\n",
    "            images, labels = images.to(config.device), labels.to(config.device)\n",
    "            outputs = model(images)\n",
    "            _, predicted = torch.max(outputs, 1)\n",
    "            total += labels.size(0)\n",
    "            correct += (predicted == labels).sum().item()\n",
    "    accuracy = 100 * correct / total\n",
    "    return accuracy"
   ]
  },
  {
   "cell_type": "markdown",
   "metadata": {},
   "source": [
    "## Create different ensemble combinations"
   ]
  },
  {
   "cell_type": "code",
   "execution_count": 17,
   "metadata": {},
   "outputs": [
    {
     "name": "stdout",
     "output_type": "stream",
     "text": [
      "Checking loaded models...\n",
      "Creating ensemble combinations...\n",
      "Not enough models for ensemble. Need at least 2 models.\n",
      "Available models: []\n"
     ]
    }
   ],
   "source": [
    "class OptimizedEnsemble(nn.Module):\n",
    "    def __init__(self, models, weights=None):\n",
    "        super(OptimizedEnsemble, self).__init__()\n",
    "        self.models = nn.ModuleList(models)\n",
    "        if weights is None:\n",
    "            weights = [1.0] * len(models)\n",
    "        self.weights = torch.tensor(weights, dtype=torch.float32, device=next(iter(models)).device)\n",
    "        self.weights = self.weights / self.weights.sum() \n",
    "    def forward(self, x):\n",
    "        if len(self.models) == 0:\n",
    "            raise ValueError(\"No models in ensemble\")\n",
    "        \n",
    "        outputs = []\n",
    "        for model in self.models:\n",
    "            model.eval()\n",
    "            with torch.no_grad():\n",
    "                output = model(x)\n",
    "                outputs.append(output)\n",
    "        \n",
    "        if len(outputs) == 0:\n",
    "            raise ValueError(\"No outputs from models\")\n",
    "        stacked_outputs = torch.stack(outputs, dim=0)\n",
    "        weighted_outputs = stacked_outputs * self.weights.view(-1, 1, 1)\n",
    "        return weighted_outputs.sum(dim=0)\n",
    "\n",
    "def evaluate_model(model, test_loader):\n",
    "    model.eval()\n",
    "    correct = 0\n",
    "    total = 0\n",
    "    \n",
    "    with torch.no_grad():\n",
    "        for images, labels in test_loader:\n",
    "            images, labels = images.to(config.device), labels.to(config.device)\n",
    "            outputs = model(images)\n",
    "            _, predicted = torch.max(outputs, 1)\n",
    "            total += labels.size(0)\n",
    "            correct += (predicted == labels).sum().item()\n",
    "    \n",
    "    accuracy = 100 * correct / total\n",
    "    return accuracy\n",
    "print(\"Checking loaded models...\")\n",
    "for name, model in existing_models.items():\n",
    "    print(f\"{name}: {type(model).__name__}\")\n",
    "    print(f\"  Device: {next(model.parameters()).device}\")\n",
    "    print(f\"  Parameters: {sum(p.numel() for p in model.parameters()):,}\")\n",
    "print(\"Creating ensemble combinations...\")\n",
    "individual_accuracies = {}\n",
    "for name, model in existing_models.items():\n",
    "    try:\n",
    "        acc = evaluate_model(model, test_loader)\n",
    "        individual_accuracies[name] = acc\n",
    "        print(f\"{name} individual accuracy: {acc:.4f}%\")\n",
    "    except Exception as e:\n",
    "        print(f\"Error evaluating {name}: {e}\")\n",
    "if len(existing_models) < 2:\n",
    "    print(\"Not enough models for ensemble. Need at least 2 models.\")\n",
    "    print(\"Available models:\", list(existing_models.keys()))\n",
    "else:\n",
    "    ensemble_models = [existing_models[name] for name in model_names if name in existing_models]\n",
    "    print(f\"Creating ensemble with {len(ensemble_models)} models\")\n",
    "    \n",
    "    try:\n",
    "        equal_ensemble = OptimizedEnsemble(ensemble_models)\n",
    "        equal_acc = evaluate_model(equal_ensemble, test_loader)\n",
    "        print(f\"Equal weight ensemble accuracy: {equal_acc:.4f}%\")\n",
    "    except Exception as e:\n",
    "        print(f\"Error creating equal ensemble: {e}\")\n",
    "        equal_acc = 0\n",
    "    try:\n",
    "        weights = [individual_accuracies[name] for name in model_names if name in existing_models]\n",
    "        weighted_ensemble = OptimizedEnsemble(ensemble_models, weights)\n",
    "        weighted_acc = evaluate_model(weighted_ensemble, test_loader)\n",
    "        print(f\"Weighted ensemble accuracy: {weighted_acc:.4f}%\")\n",
    "    except Exception as e:\n",
    "        print(f\"Error creating weighted ensemble: {e}\")\n",
    "        weighted_acc = 0\n",
    "    try:\n",
    "        best_models = sorted(individual_accuracies.items(), key=lambda x: x[1], reverse=True)[:2]\n",
    "        best_ensemble_models = [existing_models[name] for name, _ in best_models]\n",
    "        best_ensemble = OptimizedEnsemble(best_ensemble_models)\n",
    "        best_acc = evaluate_model(best_ensemble, test_loader)\n",
    "        print(f\"Best 2 models ensemble accuracy: {best_acc:.4f}%\")\n",
    "    except Exception as e:\n",
    "        print(f\"Error creating best ensemble: {e}\")\n",
    "        best_acc = 0\n",
    "\n",
    "    print(f\"\\nEnsemble Analysis:\")\n",
    "    if individual_accuracies:\n",
    "        print(f\"Best individual accuracy: {max(individual_accuracies.values()):.4f}%\")\n",
    "        print(f\"Equal ensemble improvement: {equal_acc - max(individual_accuracies.values()):.4f}%\")\n",
    "        print(f\"Weighted ensemble improvement: {weighted_acc - max(individual_accuracies.values()):.4f}%\")\n",
    "        print(f\"Best 2 ensemble improvement: {best_acc - max(individual_accuracies.values()):.4f}%\")\n",
    "    else:\n",
    "        print(\"No individual accuracies available for comparison\")"
   ]
  },
  {
   "cell_type": "code",
   "execution_count": null,
   "metadata": {},
   "outputs": [],
   "source": []
  }
 ],
 "metadata": {
  "kernelspec": {
   "display_name": "Python 3 (ipykernel)",
   "language": "python",
   "name": "python3"
  },
  "language_info": {
   "codemirror_mode": {
    "name": "ipython",
    "version": 3
   },
   "file_extension": ".py",
   "mimetype": "text/x-python",
   "name": "python",
   "nbconvert_exporter": "python",
   "pygments_lexer": "ipython3",
   "version": "3.12.3"
  }
 },
 "nbformat": 4,
 "nbformat_minor": 4
}
