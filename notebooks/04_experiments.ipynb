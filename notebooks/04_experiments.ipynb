{
 "cells": [
  {
   "cell_type": "markdown",
   "metadata": {},
   "source": [
    "# 04: experiments\n",
    "\n",
    "this notebook runs systematic experiments and compares results from the model registry.\n"
   ]
  },
  {
   "cell_type": "code",
   "execution_count": 1,
   "metadata": {},
   "outputs": [
    {
     "name": "stdout",
     "output_type": "stream",
     "text": [
      "device: cuda\n"
     ]
    }
   ],
   "source": [
    "import sys\n",
    "sys.path.append('../src')\n",
    "\n",
    "import torch\n",
    "import matplotlib.pyplot as plt\n",
    "import numpy as np\n",
    "import pandas as pd\n",
    "from src.config import Config\n",
    "from src.datasets import get_cifar10_loaders\n",
    "from src.models import create_model\n",
    "from src.trainer import Trainer\n",
    "from src.utils import set_seed, calculate_model_size\n",
    "from src.model_registry import registry\n",
    "\n",
    "set_seed(42)\n",
    "config = Config()\n",
    "print(f\"device: {config.device}\")\n"
   ]
  },
  {
   "cell_type": "code",
   "execution_count": 2,
   "metadata": {},
   "outputs": [
    {
     "name": "stdout",
     "output_type": "stream",
     "text": [
      "data loaded: 40000 train, 10000 val, 10000 test\n"
     ]
    }
   ],
   "source": [
    "# load data\n",
    "train_loader, val_loader, test_loader = get_cifar10_loaders(config)\n",
    "print(f\"data loaded: {len(train_loader.dataset)} train, {len(val_loader.dataset)} val, {len(test_loader.dataset)} test\")\n"
   ]
  },
  {
   "cell_type": "code",
   "execution_count": 3,
   "metadata": {},
   "outputs": [
    {
     "name": "stdout",
     "output_type": "stream",
     "text": [
      "model comparison:\n",
      "                   model_id  model_name  parameters  best_val_acc  final_train_acc  final_val_acc  epochs\n",
      "  SimpleCNN_20251024_171753   SimpleCNN     1147914         83.50          82.7875          83.50      30\n",
      "ImprovedCNN_20251024_172317 ImprovedCNN     1186826         84.21          86.1900          83.42      30\n",
      "  SimpleCNN_20251024_174825   SimpleCNN     1147914         83.50          82.7875          83.50      30\n",
      "ImprovedCNN_20251024_175420 ImprovedCNN     1186826         84.21          86.1900          83.42      30\n",
      "  SimpleCNN_20251024_180951   SimpleCNN     1147914         81.58          78.7125          81.58      20\n",
      "  SimpleCNN_20251024_181037   SimpleCNN     1147914         80.59          78.6425          80.59      20\n"
     ]
    }
   ],
   "source": [
    "# analyze existing models\n",
    "models = registry.list_models()\n",
    "results = []\n",
    "\n",
    "for model_id, info in models.items():\n",
    "    model_name = info['model_name']\n",
    "    history = info['history']\n",
    "    parameters = info['parameters']\n",
    "    \n",
    "    # get best validation accuracy\n",
    "    best_val_acc = max(history['val_acc'])\n",
    "    final_train_acc = history['train_acc'][-1]\n",
    "    final_val_acc = history['val_acc'][-1]\n",
    "    \n",
    "    results.append({\n",
    "        'model_id': model_id,\n",
    "        'model_name': model_name,\n",
    "        'parameters': parameters,\n",
    "        'best_val_acc': best_val_acc,\n",
    "        'final_train_acc': final_train_acc,\n",
    "        'final_val_acc': final_val_acc,\n",
    "        'epochs': len(history['train_acc'])\n",
    "    })\n",
    "\n",
    "df = pd.DataFrame(results)\n",
    "print(\"model comparison:\")\n",
    "print(df.to_string(index=False))\n"
   ]
  },
  {
   "cell_type": "code",
   "execution_count": 5,
   "metadata": {},
   "outputs": [
    {
     "name": "stdout",
     "output_type": "stream",
     "text": [
      "running new experiment with different learning rate...\n",
      "new config: lr=0.01, epochs=20\n",
      "training new model...\n",
      "Training on cuda\n",
      "Model parameters: 1,147,914\n",
      "\n",
      "Epoch 1/20\n",
      "--------------------------------------------------\n"
     ]
    },
    {
     "name": "stderr",
     "output_type": "stream",
     "text": [
      "Training: 100%|████████████████████████████████████████████████████████████████████████████████████████████████████████████████████████████████| 313/313 [00:01<00:00, 161.38it/s, Loss=1.6369, Acc=39.21%]\n",
      "Validation: 100%|█████████████████████████████████████████████████████████████████████████████████████████████████████████████████████████████████████████████████████████| 79/79 [00:00<00:00, 184.97it/s]\n"
     ]
    },
    {
     "name": "stdout",
     "output_type": "stream",
     "text": [
      "Train Loss: 1.6341, Train Acc: 39.21%\n",
      "Val Loss: 1.2767, Val Acc: 52.89%\n",
      "New best validation accuracy: 52.89%\n",
      "\n",
      "Epoch 2/20\n",
      "--------------------------------------------------\n"
     ]
    },
    {
     "name": "stderr",
     "output_type": "stream",
     "text": [
      "Training: 100%|████████████████████████████████████████████████████████████████████████████████████████████████████████████████████████████████| 313/313 [00:01<00:00, 170.68it/s, Loss=0.9815, Acc=51.85%]\n",
      "Validation: 100%|█████████████████████████████████████████████████████████████████████████████████████████████████████████████████████████████████████████████████████████| 79/79 [00:00<00:00, 212.82it/s]\n"
     ]
    },
    {
     "name": "stdout",
     "output_type": "stream",
     "text": [
      "Train Loss: 1.3216, Train Acc: 51.85%\n",
      "Val Loss: 1.0962, Val Acc: 59.81%\n",
      "New best validation accuracy: 59.81%\n",
      "\n",
      "Epoch 3/20\n",
      "--------------------------------------------------\n"
     ]
    },
    {
     "name": "stderr",
     "output_type": "stream",
     "text": [
      "Training: 100%|████████████████████████████████████████████████████████████████████████████████████████████████████████████████████████████████| 313/313 [00:01<00:00, 167.20it/s, Loss=1.2247, Acc=57.80%]\n",
      "Validation: 100%|█████████████████████████████████████████████████████████████████████████████████████████████████████████████████████████████████████████████████████████| 79/79 [00:00<00:00, 251.01it/s]\n"
     ]
    },
    {
     "name": "stdout",
     "output_type": "stream",
     "text": [
      "Train Loss: 1.1755, Train Acc: 57.80%\n",
      "Val Loss: 1.0492, Val Acc: 61.63%\n",
      "New best validation accuracy: 61.63%\n",
      "\n",
      "Epoch 4/20\n",
      "--------------------------------------------------\n"
     ]
    },
    {
     "name": "stderr",
     "output_type": "stream",
     "text": [
      "Training: 100%|████████████████████████████████████████████████████████████████████████████████████████████████████████████████████████████████| 313/313 [00:01<00:00, 182.83it/s, Loss=1.1273, Acc=61.22%]\n",
      "Validation: 100%|█████████████████████████████████████████████████████████████████████████████████████████████████████████████████████████████████████████████████████████| 79/79 [00:00<00:00, 210.09it/s]\n"
     ]
    },
    {
     "name": "stdout",
     "output_type": "stream",
     "text": [
      "Train Loss: 1.0766, Train Acc: 61.22%\n",
      "Val Loss: 0.9868, Val Acc: 65.52%\n",
      "New best validation accuracy: 65.52%\n",
      "\n",
      "Epoch 5/20\n",
      "--------------------------------------------------\n"
     ]
    },
    {
     "name": "stderr",
     "output_type": "stream",
     "text": [
      "Training: 100%|████████████████████████████████████████████████████████████████████████████████████████████████████████████████████████████████| 313/313 [00:01<00:00, 186.77it/s, Loss=0.9305, Acc=64.02%]\n",
      "Validation: 100%|█████████████████████████████████████████████████████████████████████████████████████████████████████████████████████████████████████████████████████████| 79/79 [00:00<00:00, 223.57it/s]\n"
     ]
    },
    {
     "name": "stdout",
     "output_type": "stream",
     "text": [
      "Train Loss: 1.0145, Train Acc: 64.02%\n",
      "Val Loss: 0.8783, Val Acc: 68.74%\n",
      "New best validation accuracy: 68.74%\n",
      "\n",
      "Epoch 6/20\n",
      "--------------------------------------------------\n"
     ]
    },
    {
     "name": "stderr",
     "output_type": "stream",
     "text": [
      "Training: 100%|████████████████████████████████████████████████████████████████████████████████████████████████████████████████████████████████| 313/313 [00:01<00:00, 188.47it/s, Loss=1.1616, Acc=65.97%]\n",
      "Validation: 100%|█████████████████████████████████████████████████████████████████████████████████████████████████████████████████████████████████████████████████████████| 79/79 [00:00<00:00, 173.12it/s]\n"
     ]
    },
    {
     "name": "stdout",
     "output_type": "stream",
     "text": [
      "Train Loss: 0.9521, Train Acc: 65.97%\n",
      "Val Loss: 0.8067, Val Acc: 71.38%\n",
      "New best validation accuracy: 71.38%\n",
      "\n",
      "Epoch 7/20\n",
      "--------------------------------------------------\n"
     ]
    },
    {
     "name": "stderr",
     "output_type": "stream",
     "text": [
      "Training: 100%|████████████████████████████████████████████████████████████████████████████████████████████████████████████████████████████████| 313/313 [00:01<00:00, 172.09it/s, Loss=0.7624, Acc=67.96%]\n",
      "Validation: 100%|█████████████████████████████████████████████████████████████████████████████████████████████████████████████████████████████████████████████████████████| 79/79 [00:00<00:00, 223.13it/s]\n"
     ]
    },
    {
     "name": "stdout",
     "output_type": "stream",
     "text": [
      "Train Loss: 0.9020, Train Acc: 67.96%\n",
      "Val Loss: 0.7873, Val Acc: 72.17%\n",
      "New best validation accuracy: 72.17%\n",
      "\n",
      "Epoch 8/20\n",
      "--------------------------------------------------\n"
     ]
    },
    {
     "name": "stderr",
     "output_type": "stream",
     "text": [
      "Training: 100%|████████████████████████████████████████████████████████████████████████████████████████████████████████████████████████████████| 313/313 [00:01<00:00, 178.06it/s, Loss=0.7456, Acc=69.51%]\n",
      "Validation: 100%|█████████████████████████████████████████████████████████████████████████████████████████████████████████████████████████████████████████████████████████| 79/79 [00:00<00:00, 205.70it/s]\n"
     ]
    },
    {
     "name": "stdout",
     "output_type": "stream",
     "text": [
      "Train Loss: 0.8646, Train Acc: 69.51%\n",
      "Val Loss: 0.7488, Val Acc: 73.74%\n",
      "New best validation accuracy: 73.74%\n",
      "\n",
      "Epoch 9/20\n",
      "--------------------------------------------------\n"
     ]
    },
    {
     "name": "stderr",
     "output_type": "stream",
     "text": [
      "Training: 100%|████████████████████████████████████████████████████████████████████████████████████████████████████████████████████████████████| 313/313 [00:01<00:00, 175.87it/s, Loss=0.7332, Acc=70.67%]\n",
      "Validation: 100%|█████████████████████████████████████████████████████████████████████████████████████████████████████████████████████████████████████████████████████████| 79/79 [00:00<00:00, 234.51it/s]\n"
     ]
    },
    {
     "name": "stdout",
     "output_type": "stream",
     "text": [
      "Train Loss: 0.8326, Train Acc: 70.67%\n",
      "Val Loss: 0.7028, Val Acc: 75.29%\n",
      "New best validation accuracy: 75.29%\n",
      "\n",
      "Epoch 10/20\n",
      "--------------------------------------------------\n"
     ]
    },
    {
     "name": "stderr",
     "output_type": "stream",
     "text": [
      "Training: 100%|████████████████████████████████████████████████████████████████████████████████████████████████████████████████████████████████| 313/313 [00:01<00:00, 175.86it/s, Loss=1.0536, Acc=71.80%]\n",
      "Validation: 100%|█████████████████████████████████████████████████████████████████████████████████████████████████████████████████████████████████████████████████████████| 79/79 [00:00<00:00, 219.50it/s]\n"
     ]
    },
    {
     "name": "stdout",
     "output_type": "stream",
     "text": [
      "Train Loss: 0.8032, Train Acc: 71.80%\n",
      "Val Loss: 0.7140, Val Acc: 74.89%\n",
      "\n",
      "Epoch 11/20\n",
      "--------------------------------------------------\n"
     ]
    },
    {
     "name": "stderr",
     "output_type": "stream",
     "text": [
      "Training: 100%|████████████████████████████████████████████████████████████████████████████████████████████████████████████████████████████████| 313/313 [00:01<00:00, 173.38it/s, Loss=0.8363, Acc=72.56%]\n",
      "Validation: 100%|█████████████████████████████████████████████████████████████████████████████████████████████████████████████████████████████████████████████████████████| 79/79 [00:00<00:00, 226.15it/s]\n"
     ]
    },
    {
     "name": "stdout",
     "output_type": "stream",
     "text": [
      "Train Loss: 0.7785, Train Acc: 72.56%\n",
      "Val Loss: 0.7061, Val Acc: 75.51%\n",
      "New best validation accuracy: 75.51%\n",
      "\n",
      "Epoch 12/20\n",
      "--------------------------------------------------\n"
     ]
    },
    {
     "name": "stderr",
     "output_type": "stream",
     "text": [
      "Training: 100%|████████████████████████████████████████████████████████████████████████████████████████████████████████████████████████████████| 313/313 [00:01<00:00, 176.20it/s, Loss=0.6228, Acc=73.57%]\n",
      "Validation: 100%|█████████████████████████████████████████████████████████████████████████████████████████████████████████████████████████████████████████████████████████| 79/79 [00:00<00:00, 214.28it/s]\n"
     ]
    },
    {
     "name": "stdout",
     "output_type": "stream",
     "text": [
      "Train Loss: 0.7486, Train Acc: 73.57%\n",
      "Val Loss: 0.6615, Val Acc: 76.69%\n",
      "New best validation accuracy: 76.69%\n",
      "\n",
      "Epoch 13/20\n",
      "--------------------------------------------------\n"
     ]
    },
    {
     "name": "stderr",
     "output_type": "stream",
     "text": [
      "Training: 100%|████████████████████████████████████████████████████████████████████████████████████████████████████████████████████████████████| 313/313 [00:01<00:00, 182.37it/s, Loss=0.6329, Acc=74.34%]\n",
      "Validation: 100%|█████████████████████████████████████████████████████████████████████████████████████████████████████████████████████████████████████████████████████████| 79/79 [00:00<00:00, 207.49it/s]\n"
     ]
    },
    {
     "name": "stdout",
     "output_type": "stream",
     "text": [
      "Train Loss: 0.7369, Train Acc: 74.34%\n",
      "Val Loss: 0.6394, Val Acc: 77.16%\n",
      "New best validation accuracy: 77.16%\n",
      "\n",
      "Epoch 14/20\n",
      "--------------------------------------------------\n"
     ]
    },
    {
     "name": "stderr",
     "output_type": "stream",
     "text": [
      "Training: 100%|████████████████████████████████████████████████████████████████████████████████████████████████████████████████████████████████| 313/313 [00:01<00:00, 169.97it/s, Loss=0.5903, Acc=75.29%]\n",
      "Validation: 100%|█████████████████████████████████████████████████████████████████████████████████████████████████████████████████████████████████████████████████████████| 79/79 [00:00<00:00, 240.80it/s]\n"
     ]
    },
    {
     "name": "stdout",
     "output_type": "stream",
     "text": [
      "Train Loss: 0.7101, Train Acc: 75.29%\n",
      "Val Loss: 0.6534, Val Acc: 76.89%\n",
      "\n",
      "Epoch 15/20\n",
      "--------------------------------------------------\n"
     ]
    },
    {
     "name": "stderr",
     "output_type": "stream",
     "text": [
      "Training: 100%|████████████████████████████████████████████████████████████████████████████████████████████████████████████████████████████████| 313/313 [00:01<00:00, 174.09it/s, Loss=0.7430, Acc=76.08%]\n",
      "Validation: 100%|█████████████████████████████████████████████████████████████████████████████████████████████████████████████████████████████████████████████████████████| 79/79 [00:00<00:00, 218.17it/s]\n"
     ]
    },
    {
     "name": "stdout",
     "output_type": "stream",
     "text": [
      "Train Loss: 0.6922, Train Acc: 76.08%\n",
      "Val Loss: 0.6339, Val Acc: 77.86%\n",
      "New best validation accuracy: 77.86%\n",
      "\n",
      "Epoch 16/20\n",
      "--------------------------------------------------\n"
     ]
    },
    {
     "name": "stderr",
     "output_type": "stream",
     "text": [
      "Training: 100%|████████████████████████████████████████████████████████████████████████████████████████████████████████████████████████████████| 313/313 [00:01<00:00, 171.02it/s, Loss=0.5389, Acc=76.42%]\n",
      "Validation: 100%|█████████████████████████████████████████████████████████████████████████████████████████████████████████████████████████████████████████████████████████| 79/79 [00:00<00:00, 224.20it/s]\n"
     ]
    },
    {
     "name": "stdout",
     "output_type": "stream",
     "text": [
      "Train Loss: 0.6750, Train Acc: 76.42%\n",
      "Val Loss: 0.6077, Val Acc: 79.01%\n",
      "New best validation accuracy: 79.01%\n",
      "\n",
      "Epoch 17/20\n",
      "--------------------------------------------------\n"
     ]
    },
    {
     "name": "stderr",
     "output_type": "stream",
     "text": [
      "Training: 100%|████████████████████████████████████████████████████████████████████████████████████████████████████████████████████████████████| 313/313 [00:01<00:00, 166.46it/s, Loss=0.5622, Acc=76.77%]\n",
      "Validation: 100%|█████████████████████████████████████████████████████████████████████████████████████████████████████████████████████████████████████████████████████████| 79/79 [00:00<00:00, 213.30it/s]\n"
     ]
    },
    {
     "name": "stdout",
     "output_type": "stream",
     "text": [
      "Train Loss: 0.6601, Train Acc: 76.77%\n",
      "Val Loss: 0.6060, Val Acc: 78.45%\n",
      "\n",
      "Epoch 18/20\n",
      "--------------------------------------------------\n"
     ]
    },
    {
     "name": "stderr",
     "output_type": "stream",
     "text": [
      "Training: 100%|████████████████████████████████████████████████████████████████████████████████████████████████████████████████████████████████| 313/313 [00:01<00:00, 173.33it/s, Loss=0.5114, Acc=77.58%]\n",
      "Validation: 100%|█████████████████████████████████████████████████████████████████████████████████████████████████████████████████████████████████████████████████████████| 79/79 [00:00<00:00, 178.49it/s]\n"
     ]
    },
    {
     "name": "stdout",
     "output_type": "stream",
     "text": [
      "Train Loss: 0.6393, Train Acc: 77.58%\n",
      "Val Loss: 0.6546, Val Acc: 77.60%\n",
      "\n",
      "Epoch 19/20\n",
      "--------------------------------------------------\n"
     ]
    },
    {
     "name": "stderr",
     "output_type": "stream",
     "text": [
      "Training: 100%|████████████████████████████████████████████████████████████████████████████████████████████████████████████████████████████████| 313/313 [00:01<00:00, 169.24it/s, Loss=0.7219, Acc=78.10%]\n",
      "Validation: 100%|█████████████████████████████████████████████████████████████████████████████████████████████████████████████████████████████████████████████████████████| 79/79 [00:00<00:00, 217.25it/s]\n"
     ]
    },
    {
     "name": "stdout",
     "output_type": "stream",
     "text": [
      "Train Loss: 0.6321, Train Acc: 78.10%\n",
      "Val Loss: 0.5808, Val Acc: 79.52%\n",
      "New best validation accuracy: 79.52%\n",
      "\n",
      "Epoch 20/20\n",
      "--------------------------------------------------\n"
     ]
    },
    {
     "name": "stderr",
     "output_type": "stream",
     "text": [
      "Training: 100%|████████████████████████████████████████████████████████████████████████████████████████████████████████████████████████████████| 313/313 [00:02<00:00, 147.10it/s, Loss=0.6963, Acc=78.64%]\n",
      "Validation: 100%|█████████████████████████████████████████████████████████████████████████████████████████████████████████████████████████████████████████████████████████| 79/79 [00:00<00:00, 228.61it/s]"
     ]
    },
    {
     "name": "stdout",
     "output_type": "stream",
     "text": [
      "Train Loss: 0.6139, Train Acc: 78.64%\n",
      "Val Loss: 0.5209, Val Acc: 82.04%\n",
      "New best validation accuracy: 82.04%\n",
      "\n",
      "Training completed in 44.25s\n",
      "Best validation accuracy: 82.04%\n",
      "model registered with id: SimpleCNN_20251024_181723\n",
      "new model best val acc: 82.04%\n",
      "new model final train acc: 78.64%\n"
     ]
    },
    {
     "name": "stderr",
     "output_type": "stream",
     "text": [
      "\n"
     ]
    }
   ],
   "source": [
    "#running new experiments with different hyperparameters\n",
    "print(\"running new experiment with different learning rate...\")\n",
    "\n",
    "#creating new config with different lr\n",
    "new_config = Config()\n",
    "new_config.lr = 0.01\n",
    "new_config.epochs = 20\n",
    "print(f\"new config: lr={new_config.lr}, epochs={new_config.epochs}\")\n",
    "\n",
    "#training simple cnn with new config\n",
    "model = create_model('simple_cnn', new_config).to(new_config.device)\n",
    "trainer = Trainer(model, new_config)\n",
    "\n",
    "print(\"training new model...\")\n",
    "history = trainer.fit(train_loader, val_loader)\n",
    "\n",
    "print(f\"new model best val acc: {max(history['val_acc']):.2f}%\")\n",
    "print(f\"new model final train acc: {history['train_acc'][-1]:.2f}%\")\n"
   ]
  },
  {
   "cell_type": "code",
   "execution_count": 6,
   "metadata": {},
   "outputs": [
    {
     "name": "stdout",
     "output_type": "stream",
     "text": [
      "final model comparison:\n",
      "SimpleCNN: 83.50% val acc, 1,147,914 params\n",
      "ImprovedCNN: 84.21% val acc, 1,186,826 params\n",
      "SimpleCNN: 83.50% val acc, 1,147,914 params\n",
      "ImprovedCNN: 84.21% val acc, 1,186,826 params\n",
      "SimpleCNN: 81.58% val acc, 1,147,914 params\n",
      "SimpleCNN: 80.59% val acc, 1,147,914 params\n",
      "SimpleCNN: 80.50% val acc, 1,147,914 params\n",
      "SimpleCNN: 82.04% val acc, 1,147,914 params\n"
     ]
    }
   ],
   "source": [
    "# compare all models\n",
    "print(\"final model comparison:\")\n",
    "models = registry.list_models()\n",
    "for model_id, info in models.items():\n",
    "    print(f\"{info['model_name']}: {max(info['history']['val_acc']):.2f}% val acc, {info['parameters']:,} params\")"
   ]
  },
  {
   "cell_type": "code",
   "execution_count": null,
   "metadata": {},
   "outputs": [],
   "source": []
  }
 ],
 "metadata": {
  "kernelspec": {
   "display_name": "Python 3 (ipykernel)",
   "language": "python",
   "name": "python3"
  },
  "language_info": {
   "codemirror_mode": {
    "name": "ipython",
    "version": 3
   },
   "file_extension": ".py",
   "mimetype": "text/x-python",
   "name": "python",
   "nbconvert_exporter": "python",
   "pygments_lexer": "ipython3",
   "version": "3.12.3"
  }
 },
 "nbformat": 4,
 "nbformat_minor": 4
}
